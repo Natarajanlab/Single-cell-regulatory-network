{
 "cells": [
  {
   "cell_type": "markdown",
   "metadata": {},
   "source": [
    "# SCENIC GRN inference on TM - 10X"
   ]
  },
  {
   "cell_type": "markdown",
   "metadata": {},
   "source": [
    "## Imports"
   ]
  },
  {
   "cell_type": "code",
   "execution_count": null,
   "metadata": {},
   "outputs": [],
   "source": [
    "import os\n",
    "import glob\n",
    "import pickle\n",
    "import pandas as pd\n",
    "import numpy as np\n",
    "\n",
    "from dask.diagnostics import ProgressBar\n",
    "\n",
    "from arboreto.utils import load_tf_names\n",
    "from arboreto.algo import grnboost2\n",
    "\n",
    "from pyscenic.rnkdb import FeatherRankingDatabase as RankingDatabase\n",
    "from pyscenic.utils import modules_from_adjacencies, load_motifs\n",
    "from pyscenic.prune import prune2df, df2regulons\n",
    "from pyscenic.aucell import aucell\n",
    "\n",
    "import seaborn as sns\n",
    "import scanpy\n",
    "import scanpy.api as sc"
   ]
  },
  {
   "cell_type": "markdown",
   "metadata": {},
   "source": [
    "## Load all pseudobulk mouse atlases"
   ]
  },
  {
   "cell_type": "code",
   "execution_count": 2,
   "metadata": {},
   "outputs": [],
   "source": [
    "droplet = scanpy.read_h5ad('/work/sduknn/Andreas/TM_MCA/TM/droplet_pseudobulk.h5ad')\n",
    "facs = scanpy.read_h5ad('/work/sduknn/Andreas/TM_MCA/TM/facs_pseudobulk.h5ad')\n",
    "mca = scanpy.read_h5ad('/work/sduknn/Andreas/TM_MCA/MCA/mca_pseudobulk.h5ad')"
   ]
  },
  {
   "cell_type": "code",
   "execution_count": 3,
   "metadata": {},
   "outputs": [],
   "source": [
    "#Only use overlap between all datasets\n",
    "overlap = set(droplet.var_names.values) & set(facs.var_names.values) & set(mca.var_names.values)\n",
    "\n",
    "\n",
    "droplet = droplet[:, list(overlap)]\n",
    "facs = facs[:, list(overlap)]\n",
    "mca = mca[:, list(overlap)]\n",
    "\n",
    "sc.pp.filter_genes(droplet, min_cells=(len(droplet.obs_names) / 10))\n",
    "sc.pp.filter_genes(facs, min_cells=(len(facs.obs_names) / 10))\n",
    "sc.pp.filter_genes(mca, min_cells=(len(mca.obs_names) / 10))\n",
    "\n",
    "overlap = set(droplet.var_names.values) & set(facs.var_names.values) & set(mca.var_names.values)\n",
    "\n",
    "\n",
    "droplet = droplet[:, list(overlap)]\n",
    "facs = facs[:, list(overlap)]\n",
    "mca = mca[:, list(overlap)]"
   ]
  },
  {
   "cell_type": "code",
   "execution_count": 4,
   "metadata": {},
   "outputs": [],
   "source": [
    "#library size normalization\n",
    "sc.pp.normalize_per_cell(droplet, counts_per_cell_after=1e4)\n",
    "\n",
    "\n",
    "#log transform\n",
    "sc.pp.log1p(droplet)\n"
   ]
  },
  {
   "cell_type": "code",
   "execution_count": null,
   "metadata": {},
   "outputs": [],
   "source": []
  },
  {
   "cell_type": "markdown",
   "metadata": {},
   "source": [
    "## Settings for SCENIC "
   ]
  },
  {
   "cell_type": "code",
   "execution_count": 2,
   "metadata": {},
   "outputs": [],
   "source": [
    "#Settings\n",
    "DATA_FOLDER=\"/work/sduknn/Andreas/TM_MCA/database_SCENIC/tmp/droplet\"\n",
    "RESOURCES_FOLDER=\"/work/sduknn/Andreas/TM_MCA/database_SCENIC/resources\"\n",
    "DATABASE_FOLDER = \"/work/sduknn/Andreas/TM_MCA/database_SCENIC/databases/\"\n",
    "\n",
    "#For clusters, probably wont have to use\n",
    "SCHEDULER=\"172.24.5.14:8786\"\n",
    "\n",
    "DATABASES_GLOB = os.path.join(DATABASE_FOLDER, \"mm9-*.feather\")\n",
    "MOTIF_ANNOTATIONS_FNAME = os.path.join(RESOURCES_FOLDER, \"motifs-v9-nr.mgi-m0.001-o0.0.tbl\")\n",
    "MM_TFS_FNAME = os.path.join(RESOURCES_FOLDER, '/work/sduknn/Andreas/TM_MCA/database_SCENIC/making_TF_file/mm_tfs.txt')\n",
    "#SC_EXP_FNAME = os.path.join(RESOURCES_FOLDER, \"PATH.txt\")\n",
    "REGULONS_FNAME = os.path.join(DATA_FOLDER, \"regulons_10_percent.p\")\n",
    "MOTIFS_FNAME = os.path.join(DATA_FOLDER, \"motifs_10_percent.csv\")\n",
    "\n"
   ]
  },
  {
   "cell_type": "markdown",
   "metadata": {},
   "source": [
    "## Expression matrix as a pandas DataFrame"
   ]
  },
  {
   "cell_type": "code",
   "execution_count": 11,
   "metadata": {},
   "outputs": [
    {
     "data": {
      "text/plain": [
       "(1061, 11245)"
      ]
     },
     "execution_count": 11,
     "metadata": {},
     "output_type": "execute_result"
    }
   ],
   "source": [
    "#Transpose and check array\n",
    "ex_matrix = droplet.X\n",
    "ex_matrix.shape"
   ]
  },
  {
   "cell_type": "code",
   "execution_count": 12,
   "metadata": {},
   "outputs": [],
   "source": [
    "#make pandas dataframe\n",
    "ex_matrix_drop = pd.DataFrame(data= ex_matrix.todense(),\n",
    "                         index=pd.DataFrame(droplet.obs.index.values),\n",
    "                         columns=droplet.var.index.values)"
   ]
  },
  {
   "cell_type": "markdown",
   "metadata": {},
   "source": [
    "## Load databases"
   ]
  },
  {
   "cell_type": "code",
   "execution_count": 14,
   "metadata": {},
   "outputs": [],
   "source": [
    "#Load the TF file\n",
    "tf_names = load_tf_names(MM_TFS_FNAME)"
   ]
  },
  {
   "cell_type": "code",
   "execution_count": 15,
   "metadata": {},
   "outputs": [
    {
     "data": {
      "text/plain": [
       "[FeatherRankingDatabase(name=\"mm9-500bp-upstream-7species\"),\n",
       " FeatherRankingDatabase(name=\"mm9-tss-centered-10kb-7species\")]"
      ]
     },
     "execution_count": 15,
     "metadata": {},
     "output_type": "execute_result"
    }
   ],
   "source": [
    "#Load the ranking databases\n",
    "db_fnames = glob.glob(DATABASES_GLOB)\n",
    "def name(fname):\n",
    "    return os.path.basename(fname).split(\".\")[0]\n",
    "dbs = [RankingDatabase(fname=fname, name=name(fname)) for fname in db_fnames]\n",
    "dbs\n",
    "\n",
    "dbs2= [dbs[2],dbs[4] ]\n",
    "dbs2"
   ]
  },
  {
   "cell_type": "markdown",
   "metadata": {},
   "source": [
    "## Setup dask cluster on slurm"
   ]
  },
  {
   "cell_type": "code",
   "execution_count": 16,
   "metadata": {},
   "outputs": [],
   "source": [
    "from distributed import LocalCluster, Client\n",
    "from dask_jobqueue import SLURMCluster"
   ]
  },
  {
   "cell_type": "code",
   "execution_count": 17,
   "metadata": {},
   "outputs": [],
   "source": [
    "custom_client = SLURMCluster(project='xxxxx', cores=24, walltime='02:00:00', memory='50GB',processes=12)"
   ]
  },
  {
   "cell_type": "code",
   "execution_count": 18,
   "metadata": {},
   "outputs": [],
   "source": [
    "custom_client.scale(120)\n",
    "client = Client(custom_client)"
   ]
  },
  {
   "cell_type": "markdown",
   "metadata": {},
   "source": [
    "## Coexpression inference using GRNBoost"
   ]
  },
  {
   "cell_type": "code",
   "execution_count": 22,
   "metadata": {},
   "outputs": [
    {
     "name": "stdout",
     "output_type": "stream",
     "text": [
      "preparing dask client\n",
      "parsing input\n",
      "creating dask graph\n"
     ]
    },
    {
     "name": "stderr",
     "output_type": "stream",
     "text": [
      "/home/foenssmoeller/.local/lib/python3.6/site-packages/arboreto/algo.py:214: FutureWarning: Method .as_matrix will be removed in a future version. Use .values instead.\n",
      "  expression_matrix = expression_data.as_matrix()\n"
     ]
    },
    {
     "name": "stdout",
     "output_type": "stream",
     "text": [
      "120 partitions\n",
      "computing dask graph\n",
      "not shutting down client, client was created externally\n",
      "finished\n"
     ]
    },
    {
     "name": "stderr",
     "output_type": "stream",
     "text": [
      "/home/foenssmoeller/.local/lib/python3.6/site-packages/pyscenic/utils.py:138: RuntimeWarning: invalid value encountered in greater\n",
      "  regulations = (rhos > rho_threshold).astype(int) - (rhos < -rho_threshold).astype(int)\n",
      "/home/foenssmoeller/.local/lib/python3.6/site-packages/pyscenic/utils.py:138: RuntimeWarning: invalid value encountered in less\n",
      "  regulations = (rhos > rho_threshold).astype(int) - (rhos < -rho_threshold).astype(int)\n"
     ]
    },
    {
     "name": "stdout",
     "output_type": "stream",
     "text": [
      "CPU times: user 6min 53s, sys: 13.1 s, total: 7min 6s\n",
      "Wall time: 3min 48s\n"
     ]
    }
   ],
   "source": [
    "%%time\n",
    "adjacencies_drop = grnboost2(ex_matrix_drop, tf_names=tf_names, verbose=True,  client_or_address=client)\n",
    "\n",
    "modules_drop = list(modules_from_adjacencies(adjacencies_drop, ex_matrix_drop))"
   ]
  },
  {
   "cell_type": "markdown",
   "metadata": {},
   "source": [
    "## Pruning regulons using RCisTarget"
   ]
  },
  {
   "cell_type": "code",
   "execution_count": null,
   "metadata": {},
   "outputs": [],
   "source": [
    "df_drop = prune2df(dbs2, modules_drop, MOTIF_ANNOTATIONS_FNAME,  client_or_address=client)"
   ]
  },
  {
   "cell_type": "code",
   "execution_count": 25,
   "metadata": {},
   "outputs": [],
   "source": [
    "# Create regulons from this table of enriched motifs.\n",
    "regulons_drop = df2regulons(df_drop)"
   ]
  },
  {
   "cell_type": "code",
   "execution_count": 26,
   "metadata": {},
   "outputs": [],
   "source": [
    "# Save the enriched motifs and the discovered regulons to disk.\n",
    "df_drop.to_csv(MOTIFS_FNAME)\n",
    "with open(REGULONS_FNAME, \"wb\") as f:\n",
    "    pickle.dump(regulons_drop, f)"
   ]
  },
  {
   "cell_type": "code",
   "execution_count": null,
   "metadata": {},
   "outputs": [],
   "source": [
    "custom_client.close()"
   ]
  },
  {
   "cell_type": "code",
   "execution_count": null,
   "metadata": {},
   "outputs": [],
   "source": []
  }
 ],
 "metadata": {
  "kernelspec": {
   "display_name": "Python 3",
   "language": "python",
   "name": "python3"
  },
  "language_info": {
   "codemirror_mode": {
    "name": "ipython",
    "version": 3
   },
   "file_extension": ".py",
   "mimetype": "text/x-python",
   "name": "python",
   "nbconvert_exporter": "python",
   "pygments_lexer": "ipython3",
   "version": "3.6.3"
  }
 },
 "nbformat": 4,
 "nbformat_minor": 2
}
