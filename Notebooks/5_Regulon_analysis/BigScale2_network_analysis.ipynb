{
 "cells": [
  {
   "cell_type": "markdown",
   "metadata": {},
   "source": [
    "# Notebook to compare BigSCale network inference to SCENIC"
   ]
  },
  {
   "cell_type": "markdown",
   "metadata": {},
   "source": [
    "## Imports"
   ]
  },
  {
   "cell_type": "code",
   "execution_count": 1,
   "metadata": {},
   "outputs": [],
   "source": [
    "import pandas as pd\n",
    "import numpy as np\n",
    "import matplotlib.pyplot as plt\n",
    "import seaborn as sns\n",
    "\n",
    "import os\n",
    "import pickle"
   ]
  },
  {
   "cell_type": "markdown",
   "metadata": {},
   "source": [
    "## Load SCENIC network"
   ]
  },
  {
   "cell_type": "code",
   "execution_count": 2,
   "metadata": {},
   "outputs": [],
   "source": [
    "#Loading network\n",
    "network = pd.read_csv('data/regulon_network_links.tsv', sep = '\\t', index_col = 0)\n",
    "network.columns = ['From', 'To', 'Weight']\n",
    "\n",
    "network.From = [x.strip('(+)') for x in network.From] #remove extra characters after TF name\n",
    "network.To = [x.strip('(+)') for x in network.To]\n",
    "         "
   ]
  },
  {
   "cell_type": "markdown",
   "metadata": {},
   "source": [
    "## Load BigSCale network"
   ]
  },
  {
   "cell_type": "code",
   "execution_count": 3,
   "metadata": {},
   "outputs": [],
   "source": [
    "BS = pd.read_csv('BigScale2_tm10x_network.txt', sep = ' ')"
   ]
  },
  {
   "cell_type": "code",
   "execution_count": 4,
   "metadata": {},
   "outputs": [
    {
     "data": {
      "text/html": [
       "<div>\n",
       "<style scoped>\n",
       "    .dataframe tbody tr th:only-of-type {\n",
       "        vertical-align: middle;\n",
       "    }\n",
       "\n",
       "    .dataframe tbody tr th {\n",
       "        vertical-align: top;\n",
       "    }\n",
       "\n",
       "    .dataframe thead th {\n",
       "        text-align: right;\n",
       "    }\n",
       "</style>\n",
       "<table border=\"1\" class=\"dataframe\">\n",
       "  <thead>\n",
       "    <tr style=\"text-align: right;\">\n",
       "      <th></th>\n",
       "      <th>Prdm2</th>\n",
       "      <th>Otud1</th>\n",
       "      <th>Tmod3</th>\n",
       "      <th>Gm15441</th>\n",
       "      <th>Iqgap1</th>\n",
       "      <th>Clk3</th>\n",
       "      <th>Fbxo42</th>\n",
       "      <th>Cdc16</th>\n",
       "      <th>Mid1ip1</th>\n",
       "      <th>Map3k2</th>\n",
       "      <th>...</th>\n",
       "      <th>Glt8d1</th>\n",
       "      <th>Nucb2</th>\n",
       "      <th>Gmnn</th>\n",
       "      <th>Eif1ad</th>\n",
       "      <th>Ccng2</th>\n",
       "      <th>Zfyve27</th>\n",
       "      <th>Nr2c2ap</th>\n",
       "      <th>Myl7</th>\n",
       "      <th>Ccdc82</th>\n",
       "      <th>Cwc15</th>\n",
       "    </tr>\n",
       "  </thead>\n",
       "  <tbody>\n",
       "    <tr>\n",
       "      <th>Prdm2</th>\n",
       "      <td>1.000000</td>\n",
       "      <td>-0.017016</td>\n",
       "      <td>0.502087</td>\n",
       "      <td>0.581621</td>\n",
       "      <td>0.272688</td>\n",
       "      <td>-0.117936</td>\n",
       "      <td>0.379839</td>\n",
       "      <td>0.271309</td>\n",
       "      <td>0.070676</td>\n",
       "      <td>0.734472</td>\n",
       "      <td>...</td>\n",
       "      <td>0.652853</td>\n",
       "      <td>0.570403</td>\n",
       "      <td>-0.473770</td>\n",
       "      <td>-0.430614</td>\n",
       "      <td>0.033435</td>\n",
       "      <td>0.236796</td>\n",
       "      <td>-0.245531</td>\n",
       "      <td>0.000125</td>\n",
       "      <td>0.474720</td>\n",
       "      <td>-0.146014</td>\n",
       "    </tr>\n",
       "    <tr>\n",
       "      <th>Otud1</th>\n",
       "      <td>-0.017016</td>\n",
       "      <td>1.000000</td>\n",
       "      <td>0.443534</td>\n",
       "      <td>0.010255</td>\n",
       "      <td>-0.298726</td>\n",
       "      <td>0.427149</td>\n",
       "      <td>0.315050</td>\n",
       "      <td>0.562163</td>\n",
       "      <td>-0.004034</td>\n",
       "      <td>-0.080062</td>\n",
       "      <td>...</td>\n",
       "      <td>0.247967</td>\n",
       "      <td>-0.357512</td>\n",
       "      <td>0.059384</td>\n",
       "      <td>0.452838</td>\n",
       "      <td>0.141907</td>\n",
       "      <td>-0.158779</td>\n",
       "      <td>0.472738</td>\n",
       "      <td>0.516817</td>\n",
       "      <td>0.056667</td>\n",
       "      <td>0.144032</td>\n",
       "    </tr>\n",
       "    <tr>\n",
       "      <th>Tmod3</th>\n",
       "      <td>0.502087</td>\n",
       "      <td>0.443534</td>\n",
       "      <td>1.000000</td>\n",
       "      <td>0.379815</td>\n",
       "      <td>0.178275</td>\n",
       "      <td>0.463651</td>\n",
       "      <td>0.131793</td>\n",
       "      <td>0.363493</td>\n",
       "      <td>0.035262</td>\n",
       "      <td>-0.023787</td>\n",
       "      <td>...</td>\n",
       "      <td>0.241131</td>\n",
       "      <td>0.209372</td>\n",
       "      <td>-0.073459</td>\n",
       "      <td>-0.036633</td>\n",
       "      <td>0.234611</td>\n",
       "      <td>0.063680</td>\n",
       "      <td>0.165226</td>\n",
       "      <td>0.269980</td>\n",
       "      <td>0.348587</td>\n",
       "      <td>-0.077594</td>\n",
       "    </tr>\n",
       "    <tr>\n",
       "      <th>Gm15441</th>\n",
       "      <td>0.581621</td>\n",
       "      <td>0.010255</td>\n",
       "      <td>0.379815</td>\n",
       "      <td>1.000000</td>\n",
       "      <td>0.502065</td>\n",
       "      <td>0.134367</td>\n",
       "      <td>0.273587</td>\n",
       "      <td>-0.046643</td>\n",
       "      <td>-0.249169</td>\n",
       "      <td>0.327850</td>\n",
       "      <td>...</td>\n",
       "      <td>0.207298</td>\n",
       "      <td>0.179805</td>\n",
       "      <td>0.148379</td>\n",
       "      <td>-0.066630</td>\n",
       "      <td>0.336368</td>\n",
       "      <td>0.504207</td>\n",
       "      <td>0.076230</td>\n",
       "      <td>-0.173634</td>\n",
       "      <td>0.701762</td>\n",
       "      <td>0.272079</td>\n",
       "    </tr>\n",
       "    <tr>\n",
       "      <th>Iqgap1</th>\n",
       "      <td>0.272688</td>\n",
       "      <td>-0.298726</td>\n",
       "      <td>0.178275</td>\n",
       "      <td>0.502065</td>\n",
       "      <td>1.000000</td>\n",
       "      <td>-0.019528</td>\n",
       "      <td>-0.009576</td>\n",
       "      <td>-0.399429</td>\n",
       "      <td>-0.385980</td>\n",
       "      <td>-0.092988</td>\n",
       "      <td>...</td>\n",
       "      <td>-0.111174</td>\n",
       "      <td>0.434899</td>\n",
       "      <td>0.094793</td>\n",
       "      <td>-0.183758</td>\n",
       "      <td>0.070385</td>\n",
       "      <td>0.293418</td>\n",
       "      <td>-0.030995</td>\n",
       "      <td>-0.180478</td>\n",
       "      <td>0.397585</td>\n",
       "      <td>0.181696</td>\n",
       "    </tr>\n",
       "  </tbody>\n",
       "</table>\n",
       "<p>5 rows × 11245 columns</p>\n",
       "</div>"
      ],
      "text/plain": [
       "            Prdm2     Otud1     Tmod3   Gm15441    Iqgap1      Clk3    Fbxo42  \\\n",
       "Prdm2    1.000000 -0.017016  0.502087  0.581621  0.272688 -0.117936  0.379839   \n",
       "Otud1   -0.017016  1.000000  0.443534  0.010255 -0.298726  0.427149  0.315050   \n",
       "Tmod3    0.502087  0.443534  1.000000  0.379815  0.178275  0.463651  0.131793   \n",
       "Gm15441  0.581621  0.010255  0.379815  1.000000  0.502065  0.134367  0.273587   \n",
       "Iqgap1   0.272688 -0.298726  0.178275  0.502065  1.000000 -0.019528 -0.009576   \n",
       "\n",
       "            Cdc16   Mid1ip1    Map3k2    ...       Glt8d1     Nucb2      Gmnn  \\\n",
       "Prdm2    0.271309  0.070676  0.734472    ...     0.652853  0.570403 -0.473770   \n",
       "Otud1    0.562163 -0.004034 -0.080062    ...     0.247967 -0.357512  0.059384   \n",
       "Tmod3    0.363493  0.035262 -0.023787    ...     0.241131  0.209372 -0.073459   \n",
       "Gm15441 -0.046643 -0.249169  0.327850    ...     0.207298  0.179805  0.148379   \n",
       "Iqgap1  -0.399429 -0.385980 -0.092988    ...    -0.111174  0.434899  0.094793   \n",
       "\n",
       "           Eif1ad     Ccng2   Zfyve27   Nr2c2ap      Myl7    Ccdc82     Cwc15  \n",
       "Prdm2   -0.430614  0.033435  0.236796 -0.245531  0.000125  0.474720 -0.146014  \n",
       "Otud1    0.452838  0.141907 -0.158779  0.472738  0.516817  0.056667  0.144032  \n",
       "Tmod3   -0.036633  0.234611  0.063680  0.165226  0.269980  0.348587 -0.077594  \n",
       "Gm15441 -0.066630  0.336368  0.504207  0.076230 -0.173634  0.701762  0.272079  \n",
       "Iqgap1  -0.183758  0.070385  0.293418 -0.030995 -0.180478  0.397585  0.181696  \n",
       "\n",
       "[5 rows x 11245 columns]"
      ]
     },
     "execution_count": 4,
     "metadata": {},
     "output_type": "execute_result"
    }
   ],
   "source": [
    "BS.head()"
   ]
  },
  {
   "cell_type": "code",
   "execution_count": 5,
   "metadata": {},
   "outputs": [],
   "source": [
    "BS[BS < 0.9] = np.NaN #Mask links less than the correlation threshold\n",
    "BS[BS == 1.] = np.NaN #Mask lisks to self"
   ]
  },
  {
   "cell_type": "code",
   "execution_count": 6,
   "metadata": {},
   "outputs": [],
   "source": [
    "BS['genes'] = BS.index"
   ]
  },
  {
   "cell_type": "code",
   "execution_count": 7,
   "metadata": {},
   "outputs": [],
   "source": [
    "BS = pd.melt(BS, id_vars=['genes'])\n",
    "BS.columns = ['From', 'To', 'Correlation']"
   ]
  },
  {
   "cell_type": "code",
   "execution_count": 8,
   "metadata": {},
   "outputs": [
    {
     "data": {
      "text/html": [
       "<div>\n",
       "<style scoped>\n",
       "    .dataframe tbody tr th:only-of-type {\n",
       "        vertical-align: middle;\n",
       "    }\n",
       "\n",
       "    .dataframe tbody tr th {\n",
       "        vertical-align: top;\n",
       "    }\n",
       "\n",
       "    .dataframe thead th {\n",
       "        text-align: right;\n",
       "    }\n",
       "</style>\n",
       "<table border=\"1\" class=\"dataframe\">\n",
       "  <thead>\n",
       "    <tr style=\"text-align: right;\">\n",
       "      <th></th>\n",
       "      <th>From</th>\n",
       "      <th>To</th>\n",
       "      <th>Correlation</th>\n",
       "    </tr>\n",
       "  </thead>\n",
       "  <tbody>\n",
       "    <tr>\n",
       "      <th>0</th>\n",
       "      <td>Prdm2</td>\n",
       "      <td>Prdm2</td>\n",
       "      <td>NaN</td>\n",
       "    </tr>\n",
       "    <tr>\n",
       "      <th>1</th>\n",
       "      <td>Otud1</td>\n",
       "      <td>Prdm2</td>\n",
       "      <td>NaN</td>\n",
       "    </tr>\n",
       "    <tr>\n",
       "      <th>2</th>\n",
       "      <td>Tmod3</td>\n",
       "      <td>Prdm2</td>\n",
       "      <td>NaN</td>\n",
       "    </tr>\n",
       "    <tr>\n",
       "      <th>3</th>\n",
       "      <td>Gm15441</td>\n",
       "      <td>Prdm2</td>\n",
       "      <td>NaN</td>\n",
       "    </tr>\n",
       "    <tr>\n",
       "      <th>4</th>\n",
       "      <td>Iqgap1</td>\n",
       "      <td>Prdm2</td>\n",
       "      <td>NaN</td>\n",
       "    </tr>\n",
       "  </tbody>\n",
       "</table>\n",
       "</div>"
      ],
      "text/plain": [
       "      From     To  Correlation\n",
       "0    Prdm2  Prdm2          NaN\n",
       "1    Otud1  Prdm2          NaN\n",
       "2    Tmod3  Prdm2          NaN\n",
       "3  Gm15441  Prdm2          NaN\n",
       "4   Iqgap1  Prdm2          NaN"
      ]
     },
     "execution_count": 8,
     "metadata": {},
     "output_type": "execute_result"
    }
   ],
   "source": [
    "BS.head()"
   ]
  },
  {
   "cell_type": "code",
   "execution_count": 9,
   "metadata": {},
   "outputs": [],
   "source": [
    "BS = BS.dropna() #Remove maksed links"
   ]
  },
  {
   "cell_type": "code",
   "execution_count": 10,
   "metadata": {},
   "outputs": [
    {
     "data": {
      "text/plain": [
       "(118768, 3)"
      ]
     },
     "execution_count": 10,
     "metadata": {},
     "output_type": "execute_result"
    }
   ],
   "source": [
    "BS.shape"
   ]
  },
  {
   "cell_type": "markdown",
   "metadata": {},
   "source": [
    "## Compare predicted TF interactions"
   ]
  },
  {
   "cell_type": "code",
   "execution_count": 11,
   "metadata": {},
   "outputs": [
    {
     "data": {
      "text/plain": [
       "174"
      ]
     },
     "execution_count": 11,
     "metadata": {},
     "output_type": "execute_result"
    }
   ],
   "source": [
    "#Confirm that we ahve 174 links in our consensus regulon network\n",
    "TFs = network.From.unique().tolist()\n",
    "len(TFs)"
   ]
  },
  {
   "cell_type": "code",
   "execution_count": 12,
   "metadata": {},
   "outputs": [
    {
     "name": "stdout",
     "output_type": "stream",
     "text": [
      "117 out of 174 TF's are also found in the BigSCale Network\n",
      "BigSCale identify 37.0 links between TF's\n"
     ]
    }
   ],
   "source": [
    "sub_From = [x in TFs for x in BS.From] #Mask to subset by. Which in BigScale are also in SCENIC concensus network   \n",
    "\n",
    "BS_sub = BS.loc[sub_From] #Subset based on TF's in SCENIC network\n",
    "\n",
    "#How many TF from SCENIC network is also in BigSCale network\n",
    "print(len(set(BS_sub.From)), \"\"\"out of 174 TF's are also found in the BigSCale Network\"\"\")\n",
    "\n",
    "#How many links is inferred between TF's using BigSCale\n",
    "sub_To = [x in TFs for x in BS_sub.To]\n",
    "BS_sub = BS_sub.loc[sub_To]\n",
    "\n",
    "print(\"\"\"BigSCale identify {} links between TF's\"\"\".format(BS_sub.shape[0] / 2))"
   ]
  },
  {
   "cell_type": "markdown",
   "metadata": {},
   "source": [
    "## Compare TF downstream genes (regulons)"
   ]
  },
  {
   "cell_type": "markdown",
   "metadata": {},
   "source": [
    "### Load regulon composition (SCENIC)"
   ]
  },
  {
   "cell_type": "code",
   "execution_count": 14,
   "metadata": {},
   "outputs": [],
   "source": [
    "DATA_FOLDER=\"/work/sduknn/Andreas/TM_MCA/database_SCENIC/tmp/droplet\"\n",
    "REGULONS_FNAME = os.path.join(DATA_FOLDER, \"regulons_10_percent.p\")\n",
    "\n",
    "#Reload regulons and motifs\n",
    "with open(REGULONS_FNAME, \"rb\") as f:\n",
    "    regulons_drop = pickle.load(f)\n",
    "\n",
    "    \n",
    "    "
   ]
  },
  {
   "cell_type": "code",
   "execution_count": 15,
   "metadata": {},
   "outputs": [],
   "source": [
    "#Convert to Tabular form\n",
    "def info_table(regulons):\n",
    "    regulon_names = [x.name for x in regulons]\n",
    "    #function that outputs a list of gene names present in a given regulon\n",
    "    def find_reg_genes(regulon_name, regulons):\n",
    "        x=0\n",
    "        for i in regulons:\n",
    "            if i.name != regulon_name:\n",
    "                x = x + 1\n",
    "            else:\n",
    "                return [k  for  k in  regulons[x].gene2weight.keys()]\n",
    "\n",
    "    genes = [find_reg_genes(x, regulons) for x in regulon_names]\n",
    "    regulon_info = pd.DataFrame({'Regulon':[x.strip('(+)') for x in regulon_names],\n",
    "                  'genes':genes,\n",
    "                  'N_genes':[len(x) for x in genes] })\n",
    "    #regulon_info.index = regulon_info['Regulon'].astype(str) + ' g'+regulon_info['N_genes'].astype(str)\n",
    "    regulon_info.index = regulon_info['Regulon'].astype(str)\n",
    "    return regulon_info"
   ]
  },
  {
   "cell_type": "code",
   "execution_count": 16,
   "metadata": {},
   "outputs": [],
   "source": [
    "network_comp =info_table(regulons_drop)"
   ]
  },
  {
   "cell_type": "markdown",
   "metadata": {},
   "source": [
    "### Get targets (BigSCale)"
   ]
  },
  {
   "cell_type": "code",
   "execution_count": 17,
   "metadata": {},
   "outputs": [],
   "source": [
    "\n",
    "def get_BS_genes(tf):\n",
    "    return BS[BS['From'] == tf].To.tolist()\n",
    "    "
   ]
  },
  {
   "cell_type": "code",
   "execution_count": 18,
   "metadata": {},
   "outputs": [
    {
     "data": {
      "text/plain": [
       "['Jund', 'Socs3', 'Tuba1a', 'Nfkbiz', 'Pmp22', 'Adamts1', 'Btg2', 'Prickle2']"
      ]
     },
     "execution_count": 18,
     "metadata": {},
     "output_type": "execute_result"
    }
   ],
   "source": [
    "get_BS_genes('Junb')"
   ]
  },
  {
   "cell_type": "markdown",
   "metadata": {},
   "source": [
    "## Composition similarities (Jaccard index)"
   ]
  },
  {
   "cell_type": "code",
   "execution_count": 19,
   "metadata": {},
   "outputs": [],
   "source": [
    "def intersection(s1, s2) : \n",
    "  \n",
    "    # Find the intersection of the two sets  \n",
    "    intersect = s1 & s2 ; \n",
    "  \n",
    "    return intersect;  \n",
    "\n",
    "# Function to return the Jaccard index of two sets  \n",
    "def jaccard_index(s1, s2) : \n",
    "      \n",
    "    # Sizes of both the sets  \n",
    "    size_s1 = len(s1);  \n",
    "    size_s2 = len(s2);  \n",
    "  \n",
    "    # Get the intersection set  \n",
    "    intersect = intersection(s1, s2);  \n",
    "  \n",
    "    # Size of the intersection set  \n",
    "    size_in = len(intersect);  \n",
    "  \n",
    "    # Calculate the Jaccard index  \n",
    "    # using the formula  \n",
    "    jaccard_in = size_in  / (size_s1 + size_s2 - size_in);  \n",
    "  \n",
    "    # Return the Jaccard index  \n",
    "    return jaccard_in\n",
    "\n",
    "\n"
   ]
  },
  {
   "cell_type": "markdown",
   "metadata": {},
   "source": [
    "### Compute method specific and common genes and jaccard index"
   ]
  },
  {
   "cell_type": "code",
   "execution_count": 20,
   "metadata": {},
   "outputs": [],
   "source": [
    "\n",
    "di_int = {}\n",
    "di_jc = {}\n",
    "di_BS = {}\n",
    "di_SCENIC = {}\n",
    "for i in network_comp.index:\n",
    "    if len(get_BS_genes(i)) > 0:\n",
    "        di_int[i] =len(intersection(set(get_BS_genes(i)), set(network_comp.loc[i].genes)))\n",
    "        \n",
    "        di_BS[i] =len(get_BS_genes(i)) - di_int[i]\n",
    "        di_SCENIC[i] =len(network_comp.loc[i].genes) - di_int[i]\n",
    "        \n",
    "        di_jc[i] =jaccard_index(set(get_BS_genes(i)), set(network_comp.loc[i].genes))"
   ]
  },
  {
   "cell_type": "code",
   "execution_count": 21,
   "metadata": {},
   "outputs": [],
   "source": [
    "#Format Jaccard index output\n",
    "jaccard = pd.DataFrame(di_jc, index = ['Jaccard']).T.sort_values('Jaccard', ascending = False)"
   ]
  },
  {
   "cell_type": "code",
   "execution_count": 22,
   "metadata": {},
   "outputs": [
    {
     "name": "stderr",
     "output_type": "stream",
     "text": [
      "/work/sduknn/Andreas/bin/python_deps/lib/python3.6/site-packages/ipykernel_launcher.py:5: FutureWarning: Sorting because non-concatenation axis is not aligned. A future version\n",
      "of pandas will change to not sort by default.\n",
      "\n",
      "To accept the future behavior, pass 'sort=False'.\n",
      "\n",
      "To retain the current behavior and silence the warning, pass 'sort=True'.\n",
      "\n",
      "  \"\"\"\n"
     ]
    }
   ],
   "source": [
    "#Format gene overlap\n",
    "intersect = pd.DataFrame(di_int, index = ['Intersection']).T.sort_values('Intersection', ascending = False)\n",
    "BS_specific = pd.DataFrame(di_BS, index = ['BigSCale']).T\n",
    "SCENIC_specific = pd.DataFrame(di_SCENIC, index = ['SCENIC']).T\n",
    "\n",
    "merge = pd.concat([BS_specific, intersect, SCENIC_specific], axis = 1)"
   ]
  },
  {
   "cell_type": "code",
   "execution_count": 38,
   "metadata": {},
   "outputs": [
    {
     "data": {
      "image/png": "[encoded data removed]",
      "text/plain": [
       "<Figure size 1800x288 with 1 Axes>"
      ]
     },
     "metadata": {
      "needs_background": "light"
     },
     "output_type": "display_data"
    }
   ],
   "source": [
    "# Plot Jaccard index\n",
    "plt.figure(figsize = (25,4))\n",
    "ax = sns.barplot(x = jaccard.index, y=jaccard.Jaccard, color = 'k', rasterized = True)\n",
    "plt.xticks(rotation=90)\n",
    "plt.savefig('figures/BS_SCENIC_jaccard.pdf', dpi = 500)"
   ]
  },
  {
   "cell_type": "code",
   "execution_count": 36,
   "metadata": {},
   "outputs": [
    {
     "data": {
      "image/png": "[encoded data removed]",
      "text/plain": [
       "<Figure size 2520x288 with 1 Axes>"
      ]
     },
     "metadata": {
      "needs_background": "light"
     },
     "output_type": "display_data"
    }
   ],
   "source": [
    "#Plot regulon overlap\n",
    "\n",
    "temp = merge.divide(merge.sum(axis = 1), axis = 0)\n",
    "order = temp.sort_values(['SCENIC', 'BigSCale'], ascending=[False, True]).index #order TF's\n",
    "temp = temp.loc[order]\n",
    "\n",
    "\n",
    "ax = temp.plot(kind = 'bar', stacked = True, figsize = (35,4),\n",
    "                                                     color = [\"#c30d24\", \"#cccccc\", \"#1770ab\"], \n",
    "                                                     rasterized = True)\n",
    "# Shrink current axis by 30%\n",
    "plt.tight_layout()\n",
    "box = ax.get_position()\n",
    "ax.set_position([box.x0, box.y0, box.width * 0.7, box.height])\n",
    "\n",
    "# Put a legend to the right of the current axis\n",
    "ax.legend(loc='center left', bbox_to_anchor=(1, 0.5))\n",
    "plt.ylabel('Fraction of total genes in regulon')\n",
    "plt.savefig('figures/BS_SCENIC_stacked_fraction.pdf', dpi = 500)"
   ]
  },
  {
   "cell_type": "code",
   "execution_count": 45,
   "metadata": {},
   "outputs": [],
   "source": [
    "temp.index.to_series().to_csv('fraction_order.txt', index = False)"
   ]
  },
  {
   "cell_type": "code",
   "execution_count": 44,
   "metadata": {},
   "outputs": [],
   "source": [
    "jaccard.index.to_series().to_csv('jaccard_order.txt', index = False)"
   ]
  },
  {
   "cell_type": "code",
   "execution_count": null,
   "metadata": {},
   "outputs": [],
   "source": []
  }
 ],
 "metadata": {
  "kernelspec": {
   "display_name": "Python 3",
   "language": "python",
   "name": "python3"
  },
  "language_info": {
   "codemirror_mode": {
    "name": "ipython",
    "version": 3
   },
   "file_extension": ".py",
   "mimetype": "text/x-python",
   "name": "python",
   "nbconvert_exporter": "python",
   "pygments_lexer": "ipython3",
   "version": "3.6.3"
  }
 },
 "nbformat": 4,
 "nbformat_minor": 2
}
