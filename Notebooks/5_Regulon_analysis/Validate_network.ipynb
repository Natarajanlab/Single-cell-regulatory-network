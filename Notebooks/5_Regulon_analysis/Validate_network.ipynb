{
 "cells": [
  {
   "cell_type": "markdown",
   "metadata": {},
   "source": [
    "## Notebook for validation of SCENIC predicted networks"
   ]
  },
  {
   "cell_type": "markdown",
   "metadata": {},
   "source": [
    "In this notebook we will use the STRING and OGEE databases to validate the predicted network.\n",
    "\n",
    "The STRING database contained information on known protein - protein interactions. This will validate the interactions we predict. \n",
    "\n",
    "The OGEE database contains information about gene essensiality. This will validate that the TF's in the network are more essential than expected by chance."
   ]
  },
  {
   "cell_type": "code",
   "execution_count": null,
   "metadata": {},
   "outputs": [],
   "source": []
  },
  {
   "cell_type": "markdown",
   "metadata": {},
   "source": [
    "## Imports"
   ]
  },
  {
   "cell_type": "code",
   "execution_count": 1,
   "metadata": {},
   "outputs": [],
   "source": [
    "import pandas as pd\n",
    "import numpy as np\n",
    "import seaborn as sns\n",
    "import matplotlib.pyplot as plt"
   ]
  },
  {
   "cell_type": "code",
   "execution_count": null,
   "metadata": {},
   "outputs": [],
   "source": []
  },
  {
   "cell_type": "markdown",
   "metadata": {},
   "source": [
    "## Loading network SCENIC network"
   ]
  },
  {
   "cell_type": "code",
   "execution_count": 2,
   "metadata": {},
   "outputs": [],
   "source": [
    "network = pd.read_csv('data/regulon_network_links.tsv', sep = '\\t', index_col = 0)\n",
    "network.columns = ['From', 'To', 'Weight']"
   ]
  },
  {
   "cell_type": "code",
   "execution_count": 3,
   "metadata": {},
   "outputs": [],
   "source": [
    "network.From = [x.strip('(+)') for x in network.From]\n",
    "network.To = [x.strip('(+)') for x in network.To]\n",
    "         "
   ]
  },
  {
   "cell_type": "code",
   "execution_count": 4,
   "metadata": {},
   "outputs": [
    {
     "data": {
      "text/plain": [
       "(4032, 3)"
      ]
     },
     "execution_count": 4,
     "metadata": {},
     "output_type": "execute_result"
    }
   ],
   "source": [
    "network.shape"
   ]
  },
  {
   "cell_type": "code",
   "execution_count": null,
   "metadata": {},
   "outputs": [],
   "source": []
  },
  {
   "cell_type": "markdown",
   "metadata": {},
   "source": [
    "## STRING"
   ]
  },
  {
   "cell_type": "markdown",
   "metadata": {},
   "source": [
    "### Loading STRING PPi database"
   ]
  },
  {
   "cell_type": "code",
   "execution_count": 5,
   "metadata": {},
   "outputs": [],
   "source": [
    "#Links table\n",
    "string_db = pd.read_csv('data/10090.protein.links.v11.0.txt', sep = ' ')"
   ]
  },
  {
   "cell_type": "code",
   "execution_count": 6,
   "metadata": {},
   "outputs": [],
   "source": [
    "#Table for mapping to gene names\n",
    "string_names = pd.read_csv('data/10090.protein.info.v11.0.txt', sep = '\\t')"
   ]
  },
  {
   "cell_type": "code",
   "execution_count": 7,
   "metadata": {},
   "outputs": [],
   "source": [
    "mapper = {i:n for i, n in zip(string_names['protein_external_id'], string_names['preferred_name'])}"
   ]
  },
  {
   "cell_type": "code",
   "execution_count": 8,
   "metadata": {},
   "outputs": [],
   "source": [
    "string_db['protein1'] = string_db.protein1.map(mapper) #mapping to gene names\n",
    "string_db['protein2'] = string_db.protein2.map(mapper)"
   ]
  },
  {
   "cell_type": "markdown",
   "metadata": {},
   "source": [
    "### Filter STRING to only contain TF's from SCENIC network"
   ]
  },
  {
   "cell_type": "code",
   "execution_count": 10,
   "metadata": {},
   "outputs": [],
   "source": [
    "filter_from = {x:x in network.From.tolist() for x in string_db.protein1.unique()}\n",
    "filter_to = {x:x in network.From.tolist() for x in string_db.protein2.unique()}"
   ]
  },
  {
   "cell_type": "code",
   "execution_count": 11,
   "metadata": {},
   "outputs": [
    {
     "data": {
      "text/plain": [
       "(12198, 3)"
      ]
     },
     "execution_count": 11,
     "metadata": {},
     "output_type": "execute_result"
    }
   ],
   "source": [
    "string_db_sub = string_db.loc[np.logical_and(np.array(string_db.protein1.map(filter_to)), np.array(string_db.protein2.map(filter_from)))]\n",
    "string_db_sub.shape"
   ]
  },
  {
   "cell_type": "code",
   "execution_count": 12,
   "metadata": {},
   "outputs": [
    {
     "data": {
      "text/plain": [
       "(4032, 3)"
      ]
     },
     "execution_count": 12,
     "metadata": {},
     "output_type": "execute_result"
    }
   ],
   "source": [
    "network.shape"
   ]
  },
  {
   "cell_type": "markdown",
   "metadata": {},
   "source": [
    "### How many SCENIC inferred links are already included in the string database?"
   ]
  },
  {
   "cell_type": "code",
   "execution_count": 13,
   "metadata": {},
   "outputs": [
    {
     "data": {
      "text/plain": [
       "0.5679563492063492"
      ]
     },
     "execution_count": 13,
     "metadata": {},
     "output_type": "execute_result"
    }
   ],
   "source": [
    "network_pairs = [(x, y) for x,y in zip(network.From, network.To)]\n",
    "string_pairs = [(x, y) for x,y in zip(string_db_sub.protein1, string_db_sub.protein2)]\n",
    "\n",
    "\n",
    "network_link_in_string = [x in string_pairs for x in network_pairs]\n",
    "string_link_in_network = [x in network_pairs for x in string_pairs]\n",
    "\n",
    "\n",
    "np.sum(network_link_in_string) / len(network_link_in_string)"
   ]
  },
  {
   "cell_type": "code",
   "execution_count": 16,
   "metadata": {},
   "outputs": [
    {
     "data": {
      "image/png": "[encoded data removed]",
      "text/plain": [
       "<Figure size 432x288 with 1 Axes>"
      ]
     },
     "metadata": {},
     "output_type": "display_data"
    }
   ],
   "source": [
    "network.groupby('in_network').count().plot(kind = 'pie', y = 'From',autopct='%1.1f%%' )\n",
    "plt.title('Predicted links in STRING db')\n",
    "plt.legend().remove()\n",
    "plt.ylabel('')\n",
    "plt.savefig('figures/predicted_links_in_string_pie.pdf')"
   ]
  },
  {
   "cell_type": "code",
   "execution_count": null,
   "metadata": {},
   "outputs": [],
   "source": []
  },
  {
   "cell_type": "markdown",
   "metadata": {},
   "source": [
    "#### Add information to tables"
   ]
  },
  {
   "cell_type": "code",
   "execution_count": 15,
   "metadata": {},
   "outputs": [
    {
     "name": "stderr",
     "output_type": "stream",
     "text": [
      "/work/sduknn/Andreas/bin/python_deps/lib/python3.6/site-packages/ipykernel_launcher.py:2: SettingWithCopyWarning: \n",
      "A value is trying to be set on a copy of a slice from a DataFrame.\n",
      "Try using .loc[row_indexer,col_indexer] = value instead\n",
      "\n",
      "See the caveats in the documentation: http://pandas.pydata.org/pandas-docs/stable/indexing.html#indexing-view-versus-copy\n",
      "  \n"
     ]
    }
   ],
   "source": [
    "network['in_network'] = network_link_in_string\n",
    "string_db_sub['in_network'] = string_link_in_network"
   ]
  },
  {
   "cell_type": "code",
   "execution_count": null,
   "metadata": {},
   "outputs": [],
   "source": []
  },
  {
   "cell_type": "markdown",
   "metadata": {},
   "source": [
    "### Do we predict more high confidence links?"
   ]
  },
  {
   "cell_type": "code",
   "execution_count": 17,
   "metadata": {},
   "outputs": [
    {
     "name": "stderr",
     "output_type": "stream",
     "text": [
      "/work/sduknn/Andreas/bin/python_deps/lib/python3.6/site-packages/ipykernel_launcher.py:1: SettingWithCopyWarning: \n",
      "A value is trying to be set on a copy of a slice from a DataFrame\n",
      "\n",
      "See the caveats in the documentation: http://pandas.pydata.org/pandas-docs/stable/indexing.html#indexing-view-versus-copy\n",
      "  \"\"\"Entry point for launching an IPython kernel.\n"
     ]
    }
   ],
   "source": [
    "#Sort by combined_score\n",
    "string_db_sub.sort_values('combined_score', ascending = True, inplace = True)"
   ]
  },
  {
   "cell_type": "code",
   "execution_count": 18,
   "metadata": {},
   "outputs": [
    {
     "data": {
      "image/png": "[encoded data removed]",
      "text/plain": [
       "<Figure size 432x288 with 1 Axes>"
      ]
     },
     "metadata": {
      "needs_background": "light"
     },
     "output_type": "display_data"
    }
   ],
   "source": [
    "# Show overlap between the STRING and SCENIC links\n",
    "sns.distplot(string_db_sub[string_db_sub.in_network == True].combined_score, label = 'In Network', kde = False , bins = 20)\n",
    "sns.distplot(string_db_sub.combined_score , label = 'String' , kde = False, bins = 20)\n",
    "plt.legend()\n",
    "plt.ylabel('Links')\n",
    "plt.xlabel('String link \"Combined score\"')\n",
    "plt.savefig('data/predicted_string_links.pdf')"
   ]
  },
  {
   "cell_type": "markdown",
   "metadata": {},
   "source": [
    "#### What fraction of highly vs. lowly confident links do we predict?"
   ]
  },
  {
   "cell_type": "code",
   "execution_count": 19,
   "metadata": {},
   "outputs": [
    {
     "name": "stderr",
     "output_type": "stream",
     "text": [
      "/work/sduknn/Andreas/bin/python_deps/lib/python3.6/site-packages/ipykernel_launcher.py:1: SettingWithCopyWarning: \n",
      "A value is trying to be set on a copy of a slice from a DataFrame.\n",
      "Try using .loc[row_indexer,col_indexer] = value instead\n",
      "\n",
      "See the caveats in the documentation: http://pandas.pydata.org/pandas-docs/stable/indexing.html#indexing-view-versus-copy\n",
      "  \"\"\"Entry point for launching an IPython kernel.\n"
     ]
    }
   ],
   "source": [
    "#Divide into 10 quantiles\n",
    "string_db_sub['quantile'] = pd.qcut(string_db_sub.combined_score, q=10)"
   ]
  },
  {
   "cell_type": "code",
   "execution_count": 20,
   "metadata": {},
   "outputs": [],
   "source": [
    "#Count\n",
    "percentiles = string_db_sub.groupby(['quantile', 'in_network']).count().reset_index().pivot(index='quantile', columns = 'in_network', values = 'combined_score')"
   ]
  },
  {
   "cell_type": "code",
   "execution_count": 21,
   "metadata": {},
   "outputs": [],
   "source": [
    "#Calculate fraction of links predicted per quantile\n",
    "height = percentiles[True] / percentiles.sum(axis = 1)\n",
    "height = pd.DataFrame(height)\n",
    "height.columns = ['Fraction']\n",
    "height['Percentile'] = height.index#range(1,6)"
   ]
  },
  {
   "cell_type": "code",
   "execution_count": 22,
   "metadata": {},
   "outputs": [
    {
     "data": {
      "image/png": "[encoded data removed]",
      "text/plain": [
       "<Figure size 432x288 with 1 Axes>"
      ]
     },
     "metadata": {
      "needs_background": "light"
     },
     "output_type": "display_data"
    }
   ],
   "source": [
    "#Plot\n",
    "ax = sns.barplot(y = 'Fraction', x = 'Percentile', data = height, color = 'k')\n",
    "plt.title('Fraction of STRING links predicted')\n",
    "plt.xlabel('String link \"Combined score\" percentiles')\n",
    "ax.set_xticklabels(height['Percentile'],rotation=45)\n",
    "plt.tight_layout()\n",
    "plt.savefig('figures/predicted_string_links_10percentiles.pdf')\n"
   ]
  },
  {
   "cell_type": "code",
   "execution_count": null,
   "metadata": {},
   "outputs": [],
   "source": []
  },
  {
   "cell_type": "markdown",
   "metadata": {},
   "source": [
    "### String score correlation to CSI "
   ]
  },
  {
   "cell_type": "code",
   "execution_count": 23,
   "metadata": {},
   "outputs": [],
   "source": [
    "#Load CSI matrix\n",
    "csi = pd.read_csv('data/integrated_CSI.tsv', sep = '\\t')#, index_col = 0)"
   ]
  },
  {
   "cell_type": "code",
   "execution_count": 24,
   "metadata": {},
   "outputs": [],
   "source": [
    "#Preprocess\n",
    "csi = pd.melt(csi, id_vars = ['Unnamed: 0'])\n",
    "csi.columns = ['From', 'To', 'CSI']\n",
    "\n",
    "csi.From = [x.strip('(+)') for x in csi.From]\n",
    "csi.To = [x.strip('(+)') for x in csi.To]"
   ]
  },
  {
   "cell_type": "code",
   "execution_count": 25,
   "metadata": {},
   "outputs": [],
   "source": [
    "#Make indexes identical\n",
    "string_db_sub.index = [str((f,t)) for f,t in  zip(string_db_sub.protein1, string_db_sub.protein2)]\n",
    "csi.index = [str((f,t)) for f,t in  zip(csi.From, csi.To)]"
   ]
  },
  {
   "cell_type": "code",
   "execution_count": 26,
   "metadata": {},
   "outputs": [
    {
     "name": "stderr",
     "output_type": "stream",
     "text": [
      "/work/sduknn/Andreas/bin/python_deps/lib/python3.6/site-packages/ipykernel_launcher.py:2: FutureWarning: Sorting because non-concatenation axis is not aligned. A future version\n",
      "of pandas will change to not sort by default.\n",
      "\n",
      "To accept the future behavior, pass 'sort=False'.\n",
      "\n",
      "To retain the current behavior and silence the warning, pass 'sort=True'.\n",
      "\n",
      "  \n"
     ]
    }
   ],
   "source": [
    "#Joined matrix\n",
    "corr = pd.concat([csi,\n",
    "           string_db_sub['combined_score'] ], axis = 1).dropna()"
   ]
  },
  {
   "cell_type": "code",
   "execution_count": 28,
   "metadata": {},
   "outputs": [
    {
     "name": "stderr",
     "output_type": "stream",
     "text": [
      "/work/sduknn/Andreas/bin/python_deps/lib/python3.6/site-packages/scipy/stats/stats.py:1713: FutureWarning: Using a non-tuple sequence for multidimensional indexing is deprecated; use `arr[tuple(seq)]` instead of `arr[seq]`. In the future this will be interpreted as an array index, `arr[np.array(seq)]`, which will result either in an error or a different result.\n",
      "  return np.add.reduce(sorted[indexer] * weights, axis=axis) / sumval\n"
     ]
    },
    {
     "data": {
      "image/png": "[encoded data removed]",
      "text/plain": [
       "<Figure size 432x288 with 1 Axes>"
      ]
     },
     "metadata": {
      "needs_background": "light"
     },
     "output_type": "display_data"
    }
   ],
   "source": [
    "#Plot CSI and Combined score dependency\n",
    "ax = sns.regplot(x=\"CSI\", y=\"combined_score\", data=corr,\n",
    "                 x_estimator=np.mean, x_bins = 10 , fit_reg=False, color = 'k', x_ci = 95)\n",
    "plt.axvline(x = 0.7, color = 'red', alpha = 0.7, linestyle='dashed')\n",
    "plt.ylabel('String link \"Combined score\"')\n",
    "plt.title('Relationship between regulon activity CSI and STRING confidence in PPi')\n",
    "plt.savefig('figures/string_score_CSI_score.pdf')"
   ]
  },
  {
   "cell_type": "markdown",
   "metadata": {},
   "source": [
    "#### Save STRING information in network links file"
   ]
  },
  {
   "cell_type": "code",
   "execution_count": 139,
   "metadata": {},
   "outputs": [],
   "source": [
    "org_network = pd.read_csv('data/Network_links_gephi.csv')"
   ]
  },
  {
   "cell_type": "code",
   "execution_count": 142,
   "metadata": {},
   "outputs": [],
   "source": [
    "org_network['From'] = [x.strip('(+)') for x in org_network.Source]\n",
    "org_network['To'] = [x.strip('(+)') for x in org_network.Target]"
   ]
  },
  {
   "cell_type": "code",
   "execution_count": 107,
   "metadata": {},
   "outputs": [],
   "source": [
    "network_pairs = [(x, y) for x,y in zip(org_network.From, org_network.To)]\n",
    "\n",
    "\n",
    "network_link_in_string = [x in string_pairs for x in network_pairs]"
   ]
  },
  {
   "cell_type": "code",
   "execution_count": 108,
   "metadata": {},
   "outputs": [],
   "source": [
    "mapper = {True:'In_string', False:'Not_in_string'}"
   ]
  },
  {
   "cell_type": "code",
   "execution_count": 109,
   "metadata": {},
   "outputs": [],
   "source": [
    "org_network['In_string'] = network_link_in_string\n",
    "org_network['In_string_str'] = [mapper[x] for x in network_link_in_string]"
   ]
  },
  {
   "cell_type": "code",
   "execution_count": 110,
   "metadata": {},
   "outputs": [],
   "source": [
    "org_network.to_csv('data/links_string_in_network.csv', index = False)"
   ]
  },
  {
   "cell_type": "code",
   "execution_count": null,
   "metadata": {},
   "outputs": [],
   "source": []
  },
  {
   "cell_type": "markdown",
   "metadata": {},
   "source": [
    "## OGEE"
   ]
  },
  {
   "cell_type": "markdown",
   "metadata": {},
   "source": [
    "### Loading the OGEE essensiality database"
   ]
  },
  {
   "cell_type": "code",
   "execution_count": 29,
   "metadata": {},
   "outputs": [],
   "source": [
    "ogee = pd.read_csv('data/gene_essentiality.txt', sep = '\\t')"
   ]
  },
  {
   "cell_type": "code",
   "execution_count": 30,
   "metadata": {},
   "outputs": [],
   "source": [
    "genes = pd.read_csv('data/genes.txt', sep = '\\t')"
   ]
  },
  {
   "cell_type": "code",
   "execution_count": 33,
   "metadata": {},
   "outputs": [],
   "source": [
    "gene_map = {ids:gene for ids, gene in zip(genes.locus, genes.symbols)} #map between locus and gene name"
   ]
  },
  {
   "cell_type": "code",
   "execution_count": 34,
   "metadata": {},
   "outputs": [],
   "source": [
    "ogee['symbol'] = ogee.locus.map(gene_map) #map between locus and gene name"
   ]
  },
  {
   "cell_type": "code",
   "execution_count": 35,
   "metadata": {},
   "outputs": [],
   "source": [
    "#Subset to only mouse genes\n",
    "ogee = ogee[ogee.sciName == 'Mus musculus']"
   ]
  },
  {
   "cell_type": "code",
   "execution_count": 36,
   "metadata": {},
   "outputs": [],
   "source": [
    "# Drop NA's\n",
    "ogee_sub = ogee[['symbol','essential']].dropna()"
   ]
  },
  {
   "cell_type": "code",
   "execution_count": 39,
   "metadata": {},
   "outputs": [],
   "source": [
    "ogee_sub.index = ogee_sub.symbol"
   ]
  },
  {
   "cell_type": "markdown",
   "metadata": {},
   "source": [
    "### Loading network features"
   ]
  },
  {
   "cell_type": "code",
   "execution_count": 47,
   "metadata": {},
   "outputs": [],
   "source": [
    "#Load network features from Gephi output\n",
    "network_stats = pd.read_csv('data/Network_stats.csv')"
   ]
  },
  {
   "cell_type": "code",
   "execution_count": 32,
   "metadata": {},
   "outputs": [],
   "source": [
    "#Make names compatible\n",
    "network_stats.Id = [x.strip('(+)') for x in network_stats.Id]\n",
    "network_stats.Label = [x.strip('(+)') for x in network_stats.Label]\n",
    "         "
   ]
  },
  {
   "cell_type": "code",
   "execution_count": 38,
   "metadata": {},
   "outputs": [],
   "source": [
    "network_stats.index = network_stats.Id"
   ]
  },
  {
   "cell_type": "code",
   "execution_count": 37,
   "metadata": {},
   "outputs": [
    {
     "data": {
      "text/plain": [
       "(174, 18)"
      ]
     },
     "execution_count": 37,
     "metadata": {},
     "output_type": "execute_result"
    }
   ],
   "source": [
    "network_stats.shape"
   ]
  },
  {
   "cell_type": "code",
   "execution_count": null,
   "metadata": {},
   "outputs": [],
   "source": []
  },
  {
   "cell_type": "markdown",
   "metadata": {},
   "source": [
    "### Join the databases"
   ]
  },
  {
   "cell_type": "code",
   "execution_count": 40,
   "metadata": {},
   "outputs": [
    {
     "name": "stderr",
     "output_type": "stream",
     "text": [
      "/work/sduknn/Andreas/bin/python_deps/lib/python3.6/site-packages/ipykernel_launcher.py:1: FutureWarning: Sorting because non-concatenation axis is not aligned. A future version\n",
      "of pandas will change to not sort by default.\n",
      "\n",
      "To accept the future behavior, pass 'sort=False'.\n",
      "\n",
      "To retain the current behavior and silence the warning, pass 'sort=True'.\n",
      "\n",
      "  \"\"\"Entry point for launching an IPython kernel.\n"
     ]
    }
   ],
   "source": [
    "merge = pd.concat([ogee_sub, network_stats.dropna(axis = 1)], axis = 1).dropna()"
   ]
  },
  {
   "cell_type": "markdown",
   "metadata": {},
   "source": [
    "### Plot assosiation with network features"
   ]
  },
  {
   "cell_type": "code",
   "execution_count": 80,
   "metadata": {},
   "outputs": [
    {
     "data": {
      "text/plain": [
       "Index(['symbol', 'essential', 'Id', 'Label', '0', 'Degree', 'Weighted Degree',\n",
       "       'Eccentricity', 'closnesscentrality', 'harmonicclosnesscentrality',\n",
       "       'betweenesscentrality', 'Authority', 'Hub', 'modularity_class',\n",
       "       'pageranks', 'componentnumber', 'clustering', 'triangles',\n",
       "       'eigencentrality', 'quantile'],\n",
       "      dtype='object')"
      ]
     },
     "execution_count": 80,
     "metadata": {},
     "output_type": "execute_result"
    }
   ],
   "source": [
    "merge.columns"
   ]
  },
  {
   "cell_type": "code",
   "execution_count": 41,
   "metadata": {},
   "outputs": [
    {
     "name": "stderr",
     "output_type": "stream",
     "text": [
      "/work/sduknn/Andreas/bin/python_deps/lib/python3.6/site-packages/scipy/stats/stats.py:1713: FutureWarning: Using a non-tuple sequence for multidimensional indexing is deprecated; use `arr[tuple(seq)]` instead of `arr[seq]`. In the future this will be interpreted as an array index, `arr[np.array(seq)]`, which will result either in an error or a different result.\n",
      "  return np.add.reduce(sorted[indexer] * weights, axis=axis) / sumval\n",
      "/work/sduknn/Andreas/bin/python_deps/lib/python3.6/site-packages/scipy/stats/stats.py:1713: FutureWarning: Using a non-tuple sequence for multidimensional indexing is deprecated; use `arr[tuple(seq)]` instead of `arr[seq]`. In the future this will be interpreted as an array index, `arr[np.array(seq)]`, which will result either in an error or a different result.\n",
      "  return np.add.reduce(sorted[indexer] * weights, axis=axis) / sumval\n"
     ]
    },
    {
     "data": {
      "image/png": "[encoded data removed]",
      "text/plain": [
       "<Figure size 432x288 with 1 Axes>"
      ]
     },
     "metadata": {
      "needs_background": "light"
     },
     "output_type": "display_data"
    }
   ],
   "source": [
    "#Plot features to estimate their impact on essensiality\n",
    "sns.stripplot(x = 'essential', y = 'betweenesscentrality', data = merge )\n",
    "sns.violinplot(x = 'essential', y = 'betweenesscentrality', data = merge , color = 'w', zorder = 10, cut = 0, scale = 'width')\n",
    "plt.title('Essentiality of regulons')\n",
    "plt.xlabel('')\n",
    "plt.xticks([0,1], ['Essential', 'Non-Essential'])\n",
    "plt.ylabel('Network Betweennesscentrality')\n",
    "plt.savefig('data/regulon_essentiality_OGEE_betweenness.pdf')"
   ]
  },
  {
   "cell_type": "code",
   "execution_count": 42,
   "metadata": {},
   "outputs": [
    {
     "name": "stderr",
     "output_type": "stream",
     "text": [
      "/work/sduknn/Andreas/bin/python_deps/lib/python3.6/site-packages/scipy/stats/stats.py:1713: FutureWarning: Using a non-tuple sequence for multidimensional indexing is deprecated; use `arr[tuple(seq)]` instead of `arr[seq]`. In the future this will be interpreted as an array index, `arr[np.array(seq)]`, which will result either in an error or a different result.\n",
      "  return np.add.reduce(sorted[indexer] * weights, axis=axis) / sumval\n",
      "/work/sduknn/Andreas/bin/python_deps/lib/python3.6/site-packages/scipy/stats/stats.py:1713: FutureWarning: Using a non-tuple sequence for multidimensional indexing is deprecated; use `arr[tuple(seq)]` instead of `arr[seq]`. In the future this will be interpreted as an array index, `arr[np.array(seq)]`, which will result either in an error or a different result.\n",
      "  return np.add.reduce(sorted[indexer] * weights, axis=axis) / sumval\n"
     ]
    },
    {
     "data": {
      "image/png": "[encoded data removed]",
      "text/plain": [
       "<Figure size 432x288 with 1 Axes>"
      ]
     },
     "metadata": {
      "needs_background": "light"
     },
     "output_type": "display_data"
    }
   ],
   "source": [
    "sns.stripplot(x = 'essential', y = 'Degree', data = merge )\n",
    "sns.violinplot(x = 'essential', y = 'Degree', data = merge , color = 'w', zorder = 10, cut = 0, scale = 'width')\n",
    "plt.title('Essentiality of regulons')\n",
    "plt.xlabel('')\n",
    "plt.xticks([0,1], ['Essential', 'Non-Essential'])\n",
    "plt.ylabel('Network Degree')\n",
    "plt.savefig('data/regulon_essentiality_OGEE_degree.pdf')"
   ]
  },
  {
   "cell_type": "code",
   "execution_count": null,
   "metadata": {},
   "outputs": [],
   "source": []
  },
  {
   "cell_type": "markdown",
   "metadata": {},
   "source": [
    "### Important regulons based on network features"
   ]
  },
  {
   "cell_type": "code",
   "execution_count": 63,
   "metadata": {},
   "outputs": [
    {
     "data": {
      "text/plain": [
       "Index(['Id', 'Label', 'timeset', '0', 'Degree', 'Weighted Degree',\n",
       "       'Eccentricity', 'closnesscentrality', 'harmonicclosnesscentrality',\n",
       "       'betweenesscentrality', 'Authority', 'Hub', 'modularity_class',\n",
       "       'pageranks', 'componentnumber', 'clustering', 'triangles',\n",
       "       'eigencentrality'],\n",
       "      dtype='object')"
      ]
     },
     "execution_count": 63,
     "metadata": {},
     "output_type": "execute_result"
    }
   ],
   "source": [
    "network_stats.columns"
   ]
  },
  {
   "cell_type": "code",
   "execution_count": 64,
   "metadata": {},
   "outputs": [],
   "source": [
    "network_stats.index = [x.strip('(+)') for x in network_stats.Label]"
   ]
  },
  {
   "cell_type": "code",
   "execution_count": 119,
   "metadata": {},
   "outputs": [
    {
     "data": {
      "image/png": "[encoded data removed]",
      "text/plain": [
       "<Figure size 144x216 with 1 Axes>"
      ]
     },
     "metadata": {
      "needs_background": "light"
     },
     "output_type": "display_data"
    }
   ],
   "source": [
    "#Plot the top most important regulons, based on network features\n",
    "from math import ceil, floor\n",
    "from adjustText import adjust_text\n",
    "to_plot = 'Degree'\n",
    "max_n = network_stats.shape[0]\n",
    "top_n = 5\n",
    "data = network_stats[to_plot].sort_values(ascending=False)[0:max_n]\n",
    "\n",
    "_, ax = plt.subplots(1, 1, figsize=(2, 3))\n",
    "x = np.random.sample(len(data))\n",
    "ax.plot(x, data, 'k.')\n",
    "ax.set_ylim([floor(data.min()*100.0)/100.0, ceil(data.max()*100.0)/100.0])\n",
    "ax.set_ylabel(to_plot)\n",
    "ax.set_xlabel('')\n",
    "ax.set_xticks([]) \n",
    "ax.set_xticklabels([])\n",
    "ax.set_ylim(0, np.max(data)*1.1)\n",
    "\n",
    "font = {\n",
    "            'color':  'red',\n",
    "            'weight': 'normal',\n",
    "            'size':12 ,\n",
    "        }\n",
    "texts = []\n",
    "for idx, (x_val, regulon_name, val) in enumerate(zip(x, data[0:top_n].index, data[0:top_n].values)):\n",
    "    ax.plot([x_val, x_val], [val, val], 'r.')\n",
    "    texts.append(ax.text(x_val, val , regulon_name, fontdict=font, horizontalalignment='left', verticalalignment='center'))\n",
    "ax.set_xlim(-1, 2)\n",
    "adjust_text(texts)\n",
    "plt.savefig('figures/{}_important_genes.pdf'.format(to_plot))\n"
   ]
  },
  {
   "cell_type": "code",
   "execution_count": null,
   "metadata": {},
   "outputs": [],
   "source": []
  },
  {
   "cell_type": "markdown",
   "metadata": {},
   "source": [
    "### Essentiality enrichment in SCENIC network"
   ]
  },
  {
   "cell_type": "code",
   "execution_count": 233,
   "metadata": {},
   "outputs": [],
   "source": [
    "m = merge.groupby(['0', 'essential']).count().reset_index().pivot(index='0', columns = 'essential', values = 'Id').replace(np.NaN, 0).values\n",
    "\n",
    "\n",
    "\n"
   ]
  },
  {
   "cell_type": "code",
   "execution_count": 235,
   "metadata": {},
   "outputs": [
    {
     "name": "stdout",
     "output_type": "stream",
     "text": [
      "p-value: 0.4889634673282357\n"
     ]
    }
   ],
   "source": [
    "#Use R to show regulon assosiation to essensiality\n",
    "import numpy as np\n",
    "import rpy2.robjects.numpy2ri\n",
    "from rpy2.robjects.packages import importr\n",
    "rpy2.robjects.numpy2ri.activate()\n",
    "\n",
    "stats = importr('stats')\n",
    "\n",
    "res = stats.fisher_test(m)\n",
    "print('p-value: {}'.format(res[0][0]))"
   ]
  },
  {
   "cell_type": "code",
   "execution_count": 9,
   "metadata": {},
   "outputs": [
    {
     "ename": "NameError",
     "evalue": "name 'ogee' is not defined",
     "output_type": "error",
     "traceback": [
      "\u001b[0;31m---------------------------------------------------------------------------\u001b[0m",
      "\u001b[0;31mNameError\u001b[0m                                 Traceback (most recent call last)",
      "\u001b[0;32m<ipython-input-9-5adcccabee3f>\u001b[0m in \u001b[0;36m<module>\u001b[0;34m\u001b[0m\n\u001b[0;32m----> 1\u001b[0;31m \u001b[0mogee\u001b[0m\u001b[0;34m.\u001b[0m\u001b[0mgroupby\u001b[0m\u001b[0;34m(\u001b[0m\u001b[0;34m'essential'\u001b[0m\u001b[0;34m)\u001b[0m\u001b[0;34m.\u001b[0m\u001b[0mcount\u001b[0m\u001b[0;34m(\u001b[0m\u001b[0;34m)\u001b[0m\u001b[0;34m.\u001b[0m\u001b[0miloc\u001b[0m\u001b[0;34m[\u001b[0m\u001b[0;36m1\u001b[0m\u001b[0;34m:\u001b[0m\u001b[0;34m]\u001b[0m\u001b[0;34m\u001b[0m\u001b[0m\n\u001b[0m",
      "\u001b[0;31mNameError\u001b[0m: name 'ogee' is not defined"
     ]
    }
   ],
   "source": [
    "ogee.groupby('essential').count()"
   ]
  },
  {
   "cell_type": "code",
   "execution_count": 77,
   "metadata": {},
   "outputs": [
    {
     "data": {
      "text/html": [
       "<div>\n",
       "<style scoped>\n",
       "    .dataframe tbody tr th:only-of-type {\n",
       "        vertical-align: middle;\n",
       "    }\n",
       "\n",
       "    .dataframe tbody tr th {\n",
       "        vertical-align: top;\n",
       "    }\n",
       "\n",
       "    .dataframe thead th {\n",
       "        text-align: right;\n",
       "    }\n",
       "</style>\n",
       "<table border=\"1\" class=\"dataframe\">\n",
       "  <thead>\n",
       "    <tr style=\"text-align: right;\">\n",
       "      <th></th>\n",
       "      <th>symbol</th>\n",
       "      <th>Id</th>\n",
       "      <th>Label</th>\n",
       "      <th>0</th>\n",
       "      <th>Degree</th>\n",
       "      <th>Weighted Degree</th>\n",
       "      <th>Eccentricity</th>\n",
       "      <th>closnesscentrality</th>\n",
       "      <th>harmonicclosnesscentrality</th>\n",
       "      <th>betweenesscentrality</th>\n",
       "      <th>Authority</th>\n",
       "      <th>Hub</th>\n",
       "      <th>modularity_class</th>\n",
       "      <th>pageranks</th>\n",
       "      <th>componentnumber</th>\n",
       "      <th>clustering</th>\n",
       "      <th>triangles</th>\n",
       "      <th>eigencentrality</th>\n",
       "    </tr>\n",
       "    <tr>\n",
       "      <th>essential</th>\n",
       "      <th></th>\n",
       "      <th></th>\n",
       "      <th></th>\n",
       "      <th></th>\n",
       "      <th></th>\n",
       "      <th></th>\n",
       "      <th></th>\n",
       "      <th></th>\n",
       "      <th></th>\n",
       "      <th></th>\n",
       "      <th></th>\n",
       "      <th></th>\n",
       "      <th></th>\n",
       "      <th></th>\n",
       "      <th></th>\n",
       "      <th></th>\n",
       "      <th></th>\n",
       "      <th></th>\n",
       "    </tr>\n",
       "  </thead>\n",
       "  <tbody>\n",
       "    <tr>\n",
       "      <th>E</th>\n",
       "      <td>109</td>\n",
       "      <td>109</td>\n",
       "      <td>109</td>\n",
       "      <td>109</td>\n",
       "      <td>109</td>\n",
       "      <td>109</td>\n",
       "      <td>109</td>\n",
       "      <td>109</td>\n",
       "      <td>109</td>\n",
       "      <td>109</td>\n",
       "      <td>109</td>\n",
       "      <td>109</td>\n",
       "      <td>109</td>\n",
       "      <td>109</td>\n",
       "      <td>109</td>\n",
       "      <td>109</td>\n",
       "      <td>109</td>\n",
       "      <td>109</td>\n",
       "    </tr>\n",
       "    <tr>\n",
       "      <th>NE</th>\n",
       "      <td>45</td>\n",
       "      <td>45</td>\n",
       "      <td>45</td>\n",
       "      <td>45</td>\n",
       "      <td>45</td>\n",
       "      <td>45</td>\n",
       "      <td>45</td>\n",
       "      <td>45</td>\n",
       "      <td>45</td>\n",
       "      <td>45</td>\n",
       "      <td>45</td>\n",
       "      <td>45</td>\n",
       "      <td>45</td>\n",
       "      <td>45</td>\n",
       "      <td>45</td>\n",
       "      <td>45</td>\n",
       "      <td>45</td>\n",
       "      <td>45</td>\n",
       "    </tr>\n",
       "  </tbody>\n",
       "</table>\n",
       "</div>"
      ],
      "text/plain": [
       "           symbol   Id  Label    0  Degree  Weighted Degree  Eccentricity  \\\n",
       "essential                                                                   \n",
       "E             109  109    109  109     109              109           109   \n",
       "NE             45   45     45   45      45               45            45   \n",
       "\n",
       "           closnesscentrality  harmonicclosnesscentrality  \\\n",
       "essential                                                   \n",
       "E                         109                         109   \n",
       "NE                         45                          45   \n",
       "\n",
       "           betweenesscentrality  Authority  Hub  modularity_class  pageranks  \\\n",
       "essential                                                                      \n",
       "E                           109        109  109               109        109   \n",
       "NE                           45         45   45                45         45   \n",
       "\n",
       "           componentnumber  clustering  triangles  eigencentrality  \n",
       "essential                                                           \n",
       "E                      109         109        109              109  \n",
       "NE                      45          45         45               45  "
      ]
     },
     "execution_count": 77,
     "metadata": {},
     "output_type": "execute_result"
    }
   ],
   "source": [
    "merge.groupby('essential').count()"
   ]
  },
  {
   "cell_type": "code",
   "execution_count": 86,
   "metadata": {},
   "outputs": [],
   "source": [
    "m = np.array([[4341, 109 ], \n",
    "              [4701, 45 ]])"
   ]
  },
  {
   "cell_type": "code",
   "execution_count": 88,
   "metadata": {},
   "outputs": [
    {
     "data": {
      "text/plain": [
       "array([[4341,  109],\n",
       "       [4701,   45]])"
      ]
     },
     "execution_count": 88,
     "metadata": {},
     "output_type": "execute_result"
    }
   ],
   "source": [
    "m"
   ]
  },
  {
   "cell_type": "markdown",
   "metadata": {},
   "source": [
    "#### Run fishers excact test"
   ]
  },
  {
   "cell_type": "code",
   "execution_count": 89,
   "metadata": {},
   "outputs": [
    {
     "name": "stdout",
     "output_type": "stream",
     "text": [
      "p-value: 1.922694927508917e-08\n"
     ]
    }
   ],
   "source": [
    "import numpy as np\n",
    "import rpy2.robjects.numpy2ri\n",
    "from rpy2.robjects.packages import importr\n",
    "rpy2.robjects.numpy2ri.activate()\n",
    "\n",
    "stats = importr('stats')\n",
    "\n",
    "res = stats.fisher_test(m)\n",
    "print('p-value: {}'.format(res[0][0]))"
   ]
  },
  {
   "cell_type": "code",
   "execution_count": 132,
   "metadata": {},
   "outputs": [
    {
     "data": {
      "image/png": "[encoded data removed]",
      "text/plain": [
       "<Figure size 1080x360 with 3 Axes>"
      ]
     },
     "metadata": {
      "needs_background": "light"
     },
     "output_type": "display_data"
    }
   ],
   "source": [
    "fig, axs = plt.subplots(1, 3, figsize = (15,5))\n",
    "axs = np.ravel(axs)\n",
    "merge.groupby('essential').count().plot(kind = 'pie', y = 'symbol',autopct='%1.1f%%', ax = axs[0] )\n",
    "axs[0].set_title('Essentiality distribution in SCENIC regulons')\n",
    "axs[0].legend().remove()\n",
    "axs[0].set_ylabel('')\n",
    "\n",
    "\n",
    "\n",
    "ogee.groupby('essential').count().plot(kind = 'pie', y = 'locus',autopct='%1.1f%%', ax = axs[1] )\n",
    "axs[1].set_title('Essentiality distribution in OGEE database')\n",
    "axs[1].legend().remove()\n",
    "axs[1].set_ylabel('')\n",
    "\n",
    "pd.plotting.table(axs[2], pd.DataFrame(m, columns = ['OGEE', 'SCENIC'], index = ['Essential', 'Non-essential']))\n",
    "axs[2].set_axis_off()\n",
    "plt.tight_layout()\n",
    "axs[2].text(0.2, 0.01, 'p-value (Fishers): {}'.format(res[0][0]))\n",
    "\n",
    "box = axs[2].get_position()\n",
    "axs[2].set_position([box.x0, box.y0, box.width, box.height*1.5])\n",
    "\n",
    "\n",
    "plt.savefig('figures/regulon_vs_ogee_essential_fisher_pie.pdf')"
   ]
  },
  {
   "cell_type": "code",
   "execution_count": null,
   "metadata": {},
   "outputs": [],
   "source": []
  },
  {
   "cell_type": "markdown",
   "metadata": {},
   "source": [
    "#### Save OGEE essentiality in network file"
   ]
  },
  {
   "cell_type": "code",
   "execution_count": 137,
   "metadata": {},
   "outputs": [],
   "source": [
    "network_stats_org = pd.read_csv('data/Network_stats.csv')"
   ]
  },
  {
   "cell_type": "code",
   "execution_count": 36,
   "metadata": {},
   "outputs": [
    {
     "name": "stderr",
     "output_type": "stream",
     "text": [
      "/work/sduknn/Andreas/bin/python_deps/lib/python3.6/site-packages/ipykernel_launcher.py:1: FutureWarning: Sorting because non-concatenation axis is not aligned. A future version\n",
      "of pandas will change to not sort by default.\n",
      "\n",
      "To accept the future behavior, pass 'sort=False'.\n",
      "\n",
      "To retain the current behavior and silence the warning, pass 'sort=True'.\n",
      "\n",
      "  \"\"\"Entry point for launching an IPython kernel.\n"
     ]
    }
   ],
   "source": [
    "merge = pd.concat([ogee_sub, network_stats.dropna(axis = 1)], axis = 1).loc[network_stats.index]\n",
    "merge.essential = merge.essential.replace(np.NaN, 'NaN')"
   ]
  },
  {
   "cell_type": "code",
   "execution_count": 37,
   "metadata": {},
   "outputs": [],
   "source": [
    "network_stats_org['essential'] = merge.essential.tolist()"
   ]
  },
  {
   "cell_type": "code",
   "execution_count": 40,
   "metadata": {},
   "outputs": [],
   "source": [
    "network_stats_org.to_csv('data/network_essential.csv', index = False)"
   ]
  },
  {
   "cell_type": "code",
   "execution_count": null,
   "metadata": {},
   "outputs": [],
   "source": []
  },
  {
   "cell_type": "code",
   "execution_count": null,
   "metadata": {},
   "outputs": [],
   "source": []
  },
  {
   "cell_type": "code",
   "execution_count": null,
   "metadata": {},
   "outputs": [],
   "source": []
  },
  {
   "cell_type": "code",
   "execution_count": null,
   "metadata": {},
   "outputs": [],
   "source": []
  },
  {
   "cell_type": "code",
   "execution_count": null,
   "metadata": {},
   "outputs": [],
   "source": []
  }
 ],
 "metadata": {
  "kernelspec": {
   "display_name": "Python 3",
   "language": "python",
   "name": "python3"
  },
  "language_info": {
   "codemirror_mode": {
    "name": "ipython",
    "version": 3
   },
   "file_extension": ".py",
   "mimetype": "text/x-python",
   "name": "python",
   "nbconvert_exporter": "python",
   "pygments_lexer": "ipython3",
   "version": "3.6.3"
  }
 },
 "nbformat": 4,
 "nbformat_minor": 2
}
