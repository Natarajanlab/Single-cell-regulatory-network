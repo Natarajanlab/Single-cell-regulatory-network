{
 "cells": [
  {
   "cell_type": "markdown",
   "metadata": {},
   "source": [
    "## Make SingleCellExperiment objects to use with scmap"
   ]
  },
  {
   "cell_type": "code",
   "execution_count": 6,
   "metadata": {},
   "outputs": [],
   "source": [
    "library(scater)\n",
    "library(SingleCellExperiment)\n",
    "library(Matrix)"
   ]
  },
  {
   "cell_type": "markdown",
   "metadata": {},
   "source": [
    "# MCA"
   ]
  },
  {
   "cell_type": "code",
   "execution_count": 8,
   "metadata": {},
   "outputs": [],
   "source": [
    "#Load the MCA annotated data\n",
    "cellbarcodes <- read.table(\"/gpfs/gss1/work/sduknn/Andreas/TM_MCA/MCA/barcodes.tsv\")\n",
    "genenames <- read.table(\"/gpfs/gss1/work/sduknn/Andreas/TM_MCA/MCA/genes.tsv\")\n",
    "molecules <- Matrix::readMM(\"/gpfs/gss1/work/sduknn/Andreas/TM_MCA/MCA/mca_mtx.mtx\")"
   ]
  },
  {
   "cell_type": "code",
   "execution_count": 10,
   "metadata": {},
   "outputs": [],
   "source": [
    "#Add genes and barcodes as row and columns on the matrix\n",
    "rownames(molecules) <- genenames[,1]\n",
    "colnames(molecules) <- cellbarcodes[,1]"
   ]
  },
  {
   "cell_type": "code",
   "execution_count": 11,
   "metadata": {},
   "outputs": [
    {
     "data": {
      "text/html": [
       "<table>\n",
       "<thead><tr><th scope=col>V1</th><th scope=col>V2</th><th scope=col>V3</th></tr></thead>\n",
       "<tbody>\n",
       "\t<tr><td>Bladder_1.CCATCTAGCGAGTTTAGG                   </td><td>Stromal cell_Dpt high(Bladder)                 </td><td>Bladder                                        </td></tr>\n",
       "\t<tr><td>Bladder_1.GAGGAGCGCTTGATACAG                   </td><td>Stromal cell_Car3 high(Bladder)                </td><td>Bladder                                        </td></tr>\n",
       "\t<tr><td>Bladder_1.CCAGACACAATAGAATTA                   </td><td>Vascular smooth muscle progenitor cell(Bladder)</td><td>Bladder                                        </td></tr>\n",
       "\t<tr><td>Bladder_1.CCGACGGGACATATGGCG                   </td><td>Vascular endothelial cell(Bladder)             </td><td>Bladder                                        </td></tr>\n",
       "\t<tr><td>Bladder_1.TAGCATTCAAAGATTCCA                   </td><td>Urothelium(Bladder)                            </td><td>Bladder                                        </td></tr>\n",
       "\t<tr><td>Bladder_1.CTCCATCCATCTTTTAGG                   </td><td>Smooth muscle cell(Bladder)                    </td><td>Bladder                                        </td></tr>\n",
       "</tbody>\n",
       "</table>\n"
      ],
      "text/latex": [
       "\\begin{tabular}{r|lll}\n",
       " V1 & V2 & V3\\\\\n",
       "\\hline\n",
       "\t Bladder\\_1.CCATCTAGCGAGTTTAGG                    & Stromal cell\\_Dpt high(Bladder)                  & Bladder                                          \\\\\n",
       "\t Bladder\\_1.GAGGAGCGCTTGATACAG                    & Stromal cell\\_Car3 high(Bladder)                 & Bladder                                          \\\\\n",
       "\t Bladder\\_1.CCAGACACAATAGAATTA                  & Vascular smooth muscle progenitor cell(Bladder) & Bladder                                        \\\\\n",
       "\t Bladder\\_1.CCGACGGGACATATGGCG                  & Vascular endothelial cell(Bladder)              & Bladder                                        \\\\\n",
       "\t Bladder\\_1.TAGCATTCAAAGATTCCA                  & Urothelium(Bladder)                             & Bladder                                        \\\\\n",
       "\t Bladder\\_1.CTCCATCCATCTTTTAGG                  & Smooth muscle cell(Bladder)                     & Bladder                                        \\\\\n",
       "\\end{tabular}\n"
      ],
      "text/markdown": [
       "\n",
       "V1 | V2 | V3 | \n",
       "|---|---|---|---|---|---|\n",
       "| Bladder_1.CCATCTAGCGAGTTTAGG                    | Stromal cell_Dpt high(Bladder)                  | Bladder                                         | \n",
       "| Bladder_1.GAGGAGCGCTTGATACAG                    | Stromal cell_Car3 high(Bladder)                 | Bladder                                         | \n",
       "| Bladder_1.CCAGACACAATAGAATTA                    | Vascular smooth muscle progenitor cell(Bladder) | Bladder                                         | \n",
       "| Bladder_1.CCGACGGGACATATGGCG                    | Vascular endothelial cell(Bladder)              | Bladder                                         | \n",
       "| Bladder_1.TAGCATTCAAAGATTCCA                    | Urothelium(Bladder)                             | Bladder                                         | \n",
       "| Bladder_1.CTCCATCCATCTTTTAGG                    | Smooth muscle cell(Bladder)                     | Bladder                                         | \n",
       "\n",
       "\n"
      ],
      "text/plain": [
       "  V1                           V2                                             \n",
       "1 Bladder_1.CCATCTAGCGAGTTTAGG Stromal cell_Dpt high(Bladder)                 \n",
       "2 Bladder_1.GAGGAGCGCTTGATACAG Stromal cell_Car3 high(Bladder)                \n",
       "3 Bladder_1.CCAGACACAATAGAATTA Vascular smooth muscle progenitor cell(Bladder)\n",
       "4 Bladder_1.CCGACGGGACATATGGCG Vascular endothelial cell(Bladder)             \n",
       "5 Bladder_1.TAGCATTCAAAGATTCCA Urothelium(Bladder)                            \n",
       "6 Bladder_1.CTCCATCCATCTTTTAGG Smooth muscle cell(Bladder)                    \n",
       "  V3     \n",
       "1 Bladder\n",
       "2 Bladder\n",
       "3 Bladder\n",
       "4 Bladder\n",
       "5 Bladder\n",
       "6 Bladder"
      ]
     },
     "metadata": {},
     "output_type": "display_data"
    }
   ],
   "source": [
    "# Load annotation\n",
    "ann <- read.csv(\"/gpfs/gss1/work/sduknn/Andreas/TM_MCA/MCA/annotation_for_r.tsv\" , header=F, sep = '\\t')"
   ]
  },
  {
   "cell_type": "code",
   "execution_count": 12,
   "metadata": {},
   "outputs": [],
   "source": [
    "#Make sure that annotations are correctly ordered\n",
    "ann_subset <- ann[match(colnames(molecules), ann[,1]),]\n",
    "celltype <- ann_subset[,2]\n",
    "tissue <- ann_subset[,3]"
   ]
  },
  {
   "cell_type": "code",
   "execution_count": 16,
   "metadata": {},
   "outputs": [],
   "source": [
    "#Make annotation dataframe\n",
    "cell_anns <- data.frame(type=celltype, tissue = tissue)\n",
    "rownames(cell_anns) <- colnames(molecules);"
   ]
  },
  {
   "cell_type": "code",
   "execution_count": 17,
   "metadata": {},
   "outputs": [
    {
     "data": {
      "text/html": [
       "<table>\n",
       "<thead><tr><th></th><th scope=col>type</th><th scope=col>tissue</th></tr></thead>\n",
       "<tbody>\n",
       "\t<tr><th scope=row>Bladder_1.CCATCTAGCGAGTTTAGG</th><td>Stromal cell_Dpt high(Bladder)                 </td><td>Bladder                                        </td></tr>\n",
       "\t<tr><th scope=row>Bladder_1.GAGGAGCGCTTGATACAG</th><td>Stromal cell_Car3 high(Bladder)                </td><td>Bladder                                        </td></tr>\n",
       "\t<tr><th scope=row>Bladder_1.CCAGACACAATAGAATTA</th><td>Vascular smooth muscle progenitor cell(Bladder)</td><td>Bladder                                        </td></tr>\n",
       "\t<tr><th scope=row>Bladder_1.CCGACGGGACATATGGCG</th><td>Vascular endothelial cell(Bladder)             </td><td>Bladder                                        </td></tr>\n",
       "\t<tr><th scope=row>Bladder_1.TAGCATTCAAAGATTCCA</th><td>Urothelium(Bladder)                            </td><td>Bladder                                        </td></tr>\n",
       "\t<tr><th scope=row>Bladder_1.CTCCATCCATCTTTTAGG</th><td>Smooth muscle cell(Bladder)                    </td><td>Bladder                                        </td></tr>\n",
       "</tbody>\n",
       "</table>\n"
      ],
      "text/latex": [
       "\\begin{tabular}{r|ll}\n",
       "  & type & tissue\\\\\n",
       "\\hline\n",
       "\tBladder\\_1.CCATCTAGCGAGTTTAGG & Stromal cell\\_Dpt high(Bladder)                  & Bladder                                          \\\\\n",
       "\tBladder\\_1.GAGGAGCGCTTGATACAG & Stromal cell\\_Car3 high(Bladder)                 & Bladder                                          \\\\\n",
       "\tBladder\\_1.CCAGACACAATAGAATTA & Vascular smooth muscle progenitor cell(Bladder) & Bladder                                        \\\\\n",
       "\tBladder\\_1.CCGACGGGACATATGGCG & Vascular endothelial cell(Bladder)              & Bladder                                        \\\\\n",
       "\tBladder\\_1.TAGCATTCAAAGATTCCA & Urothelium(Bladder)                             & Bladder                                        \\\\\n",
       "\tBladder\\_1.CTCCATCCATCTTTTAGG & Smooth muscle cell(Bladder)                     & Bladder                                        \\\\\n",
       "\\end{tabular}\n"
      ],
      "text/markdown": [
       "\n",
       "| <!--/--> | type | tissue | \n",
       "|---|---|---|---|---|---|\n",
       "| Bladder_1.CCATCTAGCGAGTTTAGG | Stromal cell_Dpt high(Bladder)                  | Bladder                                         | \n",
       "| Bladder_1.GAGGAGCGCTTGATACAG | Stromal cell_Car3 high(Bladder)                 | Bladder                                         | \n",
       "| Bladder_1.CCAGACACAATAGAATTA | Vascular smooth muscle progenitor cell(Bladder) | Bladder                                         | \n",
       "| Bladder_1.CCGACGGGACATATGGCG | Vascular endothelial cell(Bladder)              | Bladder                                         | \n",
       "| Bladder_1.TAGCATTCAAAGATTCCA | Urothelium(Bladder)                             | Bladder                                         | \n",
       "| Bladder_1.CTCCATCCATCTTTTAGG | Smooth muscle cell(Bladder)                     | Bladder                                         | \n",
       "\n",
       "\n"
      ],
      "text/plain": [
       "                             type                                           \n",
       "Bladder_1.CCATCTAGCGAGTTTAGG Stromal cell_Dpt high(Bladder)                 \n",
       "Bladder_1.GAGGAGCGCTTGATACAG Stromal cell_Car3 high(Bladder)                \n",
       "Bladder_1.CCAGACACAATAGAATTA Vascular smooth muscle progenitor cell(Bladder)\n",
       "Bladder_1.CCGACGGGACATATGGCG Vascular endothelial cell(Bladder)             \n",
       "Bladder_1.TAGCATTCAAAGATTCCA Urothelium(Bladder)                            \n",
       "Bladder_1.CTCCATCCATCTTTTAGG Smooth muscle cell(Bladder)                    \n",
       "                             tissue \n",
       "Bladder_1.CCATCTAGCGAGTTTAGG Bladder\n",
       "Bladder_1.GAGGAGCGCTTGATACAG Bladder\n",
       "Bladder_1.CCAGACACAATAGAATTA Bladder\n",
       "Bladder_1.CCGACGGGACATATGGCG Bladder\n",
       "Bladder_1.TAGCATTCAAAGATTCCA Bladder\n",
       "Bladder_1.CTCCATCCATCTTTTAGG Bladder"
      ]
     },
     "metadata": {},
     "output_type": "display_data"
    }
   ],
   "source": [
    "head(cell_anns)"
   ]
  },
  {
   "cell_type": "code",
   "execution_count": 18,
   "metadata": {},
   "outputs": [],
   "source": [
    "#Make singlecellexperiment\n",
    "molecules <- as.matrix(molecules)\n",
    "sce_mca <- SingleCellExperiment(assays = list(counts = as.matrix(molecules)), colData=cell_anns)"
   ]
  },
  {
   "cell_type": "code",
   "execution_count": 19,
   "metadata": {},
   "outputs": [
    {
     "data": {
      "text/plain": [
       "class: SingleCellExperiment \n",
       "dim: 39855 233994 \n",
       "metadata(0):\n",
       "assays(1): counts\n",
       "rownames(39855): 0610007P14Rik 0610009B22Rik ... Krtap4-7 RP23-353P23.2\n",
       "rowData names(0):\n",
       "colnames(233994): Bladder_1.CCATCTAGCGAGTTTAGG\n",
       "  Bladder_1.GAGGAGCGCTTGATACAG ... Uterus_2.AGTTTACCGACGGGGCGA\n",
       "  Uterus_2.AATAAATGCGGAAGTTTA\n",
       "colData names(2): type tissue\n",
       "reducedDimNames(0):\n",
       "spikeNames(0):"
      ]
     },
     "metadata": {},
     "output_type": "display_data"
    }
   ],
   "source": [
    "sce_mca"
   ]
  },
  {
   "cell_type": "code",
   "execution_count": 20,
   "metadata": {},
   "outputs": [],
   "source": [
    "#save to disk\n",
    "saveRDS(sce_mca, \"/gpfs/gss1/work/sduknn/Andreas/TM_MCA/MCA/mca_sce.rds\")"
   ]
  },
  {
   "cell_type": "markdown",
   "metadata": {},
   "source": [
    "# TM - 10X "
   ]
  },
  {
   "cell_type": "code",
   "execution_count": 21,
   "metadata": {},
   "outputs": [],
   "source": [
    "#Load the TM - 10x annotated data\n",
    "cellbarcodes <- read.table(\"/gpfs/gss1/work/sduknn/Andreas/TM_MCA/TM/droplet/barcodes.tsv\")\n",
    "genenames <- read.table(\"/gpfs/gss1/work/sduknn/Andreas/TM_MCA/TM/droplet/genes.tsv\")\n",
    "molecules <- Matrix::readMM(\"/gpfs/gss1/work/sduknn/Andreas/TM_MCA/TM/droplet/droplet_mtx.mtx\")"
   ]
  },
  {
   "cell_type": "code",
   "execution_count": 23,
   "metadata": {},
   "outputs": [],
   "source": [
    "#Add genes and barcodes as row and columns on the matrix\n",
    "rownames(molecules) <- genenames[,1]\n",
    "colnames(molecules) <- cellbarcodes[,1]"
   ]
  },
  {
   "cell_type": "code",
   "execution_count": 24,
   "metadata": {},
   "outputs": [
    {
     "data": {
      "text/html": [
       "<table>\n",
       "<thead><tr><th scope=col>V1</th><th scope=col>V2</th><th scope=col>V3</th></tr></thead>\n",
       "<tbody>\n",
       "\t<tr><td>10X_P4_0_AAACCTGAGATTACCC</td><td>basal cell of epidermis  </td><td>Tongue                   </td></tr>\n",
       "\t<tr><td>10X_P4_0_AAACCTGAGTGCCAGA</td><td>keratinocyte             </td><td>Tongue                   </td></tr>\n",
       "\t<tr><td>10X_P4_0_AAACCTGCAAATCCGT</td><td>keratinocyte             </td><td>Tongue                   </td></tr>\n",
       "\t<tr><td>10X_P4_0_AAACCTGGTAATCGTC</td><td>basal cell of epidermis  </td><td>Tongue                   </td></tr>\n",
       "\t<tr><td>10X_P4_0_AAACCTGGTCCAACTA</td><td>basal cell of epidermis  </td><td>Tongue                   </td></tr>\n",
       "\t<tr><td>10X_P4_0_AAACCTGGTGATAAAC</td><td>basal cell of epidermis  </td><td>Tongue                   </td></tr>\n",
       "</tbody>\n",
       "</table>\n"
      ],
      "text/latex": [
       "\\begin{tabular}{r|lll}\n",
       " V1 & V2 & V3\\\\\n",
       "\\hline\n",
       "\t 10X\\_P4\\_0\\_AAACCTGAGATTACCC & basal cell of epidermis         & Tongue                         \\\\\n",
       "\t 10X\\_P4\\_0\\_AAACCTGAGTGCCAGA & keratinocyte                    & Tongue                         \\\\\n",
       "\t 10X\\_P4\\_0\\_AAACCTGCAAATCCGT & keratinocyte                    & Tongue                         \\\\\n",
       "\t 10X\\_P4\\_0\\_AAACCTGGTAATCGTC & basal cell of epidermis         & Tongue                         \\\\\n",
       "\t 10X\\_P4\\_0\\_AAACCTGGTCCAACTA & basal cell of epidermis         & Tongue                         \\\\\n",
       "\t 10X\\_P4\\_0\\_AAACCTGGTGATAAAC & basal cell of epidermis         & Tongue                         \\\\\n",
       "\\end{tabular}\n"
      ],
      "text/markdown": [
       "\n",
       "V1 | V2 | V3 | \n",
       "|---|---|---|---|---|---|\n",
       "| 10X_P4_0_AAACCTGAGATTACCC | basal cell of epidermis   | Tongue                    | \n",
       "| 10X_P4_0_AAACCTGAGTGCCAGA | keratinocyte              | Tongue                    | \n",
       "| 10X_P4_0_AAACCTGCAAATCCGT | keratinocyte              | Tongue                    | \n",
       "| 10X_P4_0_AAACCTGGTAATCGTC | basal cell of epidermis   | Tongue                    | \n",
       "| 10X_P4_0_AAACCTGGTCCAACTA | basal cell of epidermis   | Tongue                    | \n",
       "| 10X_P4_0_AAACCTGGTGATAAAC | basal cell of epidermis   | Tongue                    | \n",
       "\n",
       "\n"
      ],
      "text/plain": [
       "  V1                        V2                      V3    \n",
       "1 10X_P4_0_AAACCTGAGATTACCC basal cell of epidermis Tongue\n",
       "2 10X_P4_0_AAACCTGAGTGCCAGA keratinocyte            Tongue\n",
       "3 10X_P4_0_AAACCTGCAAATCCGT keratinocyte            Tongue\n",
       "4 10X_P4_0_AAACCTGGTAATCGTC basal cell of epidermis Tongue\n",
       "5 10X_P4_0_AAACCTGGTCCAACTA basal cell of epidermis Tongue\n",
       "6 10X_P4_0_AAACCTGGTGATAAAC basal cell of epidermis Tongue"
      ]
     },
     "metadata": {},
     "output_type": "display_data"
    }
   ],
   "source": [
    "# Load annotation\n",
    "ann <- read.csv(\"/gpfs/gss1/work/sduknn/Andreas/TM_MCA/TM/droplet/annotation_for_r.tsv\" , header=F, sep = '\\t')"
   ]
  },
  {
   "cell_type": "code",
   "execution_count": 25,
   "metadata": {},
   "outputs": [],
   "source": [
    "#Make sure that annotations are correctly ordered\n",
    "ann_subset <- ann[match(colnames(molecules), ann[,1]),]\n",
    "celltype <- ann_subset[,2]\n",
    "tissue <- ann_subset[,3]"
   ]
  },
  {
   "cell_type": "code",
   "execution_count": 27,
   "metadata": {},
   "outputs": [],
   "source": [
    "#Make annotation dataframe\n",
    "cell_anns <- data.frame(type=celltype, tissue = tissue)\n",
    "rownames(cell_anns) <- colnames(molecules);"
   ]
  },
  {
   "cell_type": "code",
   "execution_count": 28,
   "metadata": {},
   "outputs": [
    {
     "data": {
      "text/html": [
       "<table>\n",
       "<thead><tr><th></th><th scope=col>type</th><th scope=col>tissue</th></tr></thead>\n",
       "<tbody>\n",
       "\t<tr><th scope=row>10X_P4_0_AAACCTGAGATTACCC</th><td>basal cell of epidermis</td><td>Tongue                 </td></tr>\n",
       "\t<tr><th scope=row>10X_P4_0_AAACCTGAGTGCCAGA</th><td>keratinocyte           </td><td>Tongue                 </td></tr>\n",
       "\t<tr><th scope=row>10X_P4_0_AAACCTGCAAATCCGT</th><td>keratinocyte           </td><td>Tongue                 </td></tr>\n",
       "\t<tr><th scope=row>10X_P4_0_AAACCTGGTAATCGTC</th><td>basal cell of epidermis</td><td>Tongue                 </td></tr>\n",
       "\t<tr><th scope=row>10X_P4_0_AAACCTGGTCCAACTA</th><td>basal cell of epidermis</td><td>Tongue                 </td></tr>\n",
       "\t<tr><th scope=row>10X_P4_0_AAACCTGGTGATAAAC</th><td>basal cell of epidermis</td><td>Tongue                 </td></tr>\n",
       "</tbody>\n",
       "</table>\n"
      ],
      "text/latex": [
       "\\begin{tabular}{r|ll}\n",
       "  & type & tissue\\\\\n",
       "\\hline\n",
       "\t10X\\_P4\\_0\\_AAACCTGAGATTACCC & basal cell of epidermis & Tongue                 \\\\\n",
       "\t10X\\_P4\\_0\\_AAACCTGAGTGCCAGA & keratinocyte            & Tongue                 \\\\\n",
       "\t10X\\_P4\\_0\\_AAACCTGCAAATCCGT & keratinocyte            & Tongue                 \\\\\n",
       "\t10X\\_P4\\_0\\_AAACCTGGTAATCGTC & basal cell of epidermis & Tongue                 \\\\\n",
       "\t10X\\_P4\\_0\\_AAACCTGGTCCAACTA & basal cell of epidermis & Tongue                 \\\\\n",
       "\t10X\\_P4\\_0\\_AAACCTGGTGATAAAC & basal cell of epidermis & Tongue                 \\\\\n",
       "\\end{tabular}\n"
      ],
      "text/markdown": [
       "\n",
       "| <!--/--> | type | tissue | \n",
       "|---|---|---|---|---|---|\n",
       "| 10X_P4_0_AAACCTGAGATTACCC | basal cell of epidermis | Tongue                  | \n",
       "| 10X_P4_0_AAACCTGAGTGCCAGA | keratinocyte            | Tongue                  | \n",
       "| 10X_P4_0_AAACCTGCAAATCCGT | keratinocyte            | Tongue                  | \n",
       "| 10X_P4_0_AAACCTGGTAATCGTC | basal cell of epidermis | Tongue                  | \n",
       "| 10X_P4_0_AAACCTGGTCCAACTA | basal cell of epidermis | Tongue                  | \n",
       "| 10X_P4_0_AAACCTGGTGATAAAC | basal cell of epidermis | Tongue                  | \n",
       "\n",
       "\n"
      ],
      "text/plain": [
       "                          type                    tissue\n",
       "10X_P4_0_AAACCTGAGATTACCC basal cell of epidermis Tongue\n",
       "10X_P4_0_AAACCTGAGTGCCAGA keratinocyte            Tongue\n",
       "10X_P4_0_AAACCTGCAAATCCGT keratinocyte            Tongue\n",
       "10X_P4_0_AAACCTGGTAATCGTC basal cell of epidermis Tongue\n",
       "10X_P4_0_AAACCTGGTCCAACTA basal cell of epidermis Tongue\n",
       "10X_P4_0_AAACCTGGTGATAAAC basal cell of epidermis Tongue"
      ]
     },
     "metadata": {},
     "output_type": "display_data"
    }
   ],
   "source": [
    "head(cell_anns)"
   ]
  },
  {
   "cell_type": "code",
   "execution_count": 29,
   "metadata": {},
   "outputs": [],
   "source": [
    "#Make singlecellexperiment\n",
    "molecules <- as.matrix(molecules)\n",
    "sce_droplet <- SingleCellExperiment(assays = list(counts = as.matrix(molecules)), colData=cell_anns)"
   ]
  },
  {
   "cell_type": "code",
   "execution_count": 30,
   "metadata": {},
   "outputs": [
    {
     "data": {
      "text/plain": [
       "class: SingleCellExperiment \n",
       "dim: 23433 70118 \n",
       "metadata(0):\n",
       "assays(1): counts\n",
       "rownames(23433): 0610005C13Rik 0610007C21Rik ... l7Rn6\n",
       "  zsGreen_transgene\n",
       "rowData names(0):\n",
       "colnames(70118): 10X_P4_0_AAACCTGAGATTACCC 10X_P4_0_AAACCTGAGTGCCAGA\n",
       "  ... 10X_P8_15_TTTGTCATCTTACCGC 10X_P8_15_TTTGTCATCTTGTTTG\n",
       "colData names(2): type tissue\n",
       "reducedDimNames(0):\n",
       "spikeNames(0):"
      ]
     },
     "metadata": {},
     "output_type": "display_data"
    }
   ],
   "source": [
    "sce_droplet"
   ]
  },
  {
   "cell_type": "code",
   "execution_count": 31,
   "metadata": {},
   "outputs": [],
   "source": [
    "#save to disk\n",
    "saveRDS(sce_droplet, \"/gpfs/gss1/work/sduknn/Andreas/TM_MCA/TM/droplet/droplet_sce.rds\")"
   ]
  },
  {
   "cell_type": "markdown",
   "metadata": {},
   "source": [
    "# TM - SS2"
   ]
  },
  {
   "cell_type": "code",
   "execution_count": 32,
   "metadata": {},
   "outputs": [],
   "source": [
    "#Load the TM - SS2 annotated data\n",
    "cellbarcodes <- read.table(\"/gpfs/gss1/work/sduknn/Andreas/TM_MCA/TM/facs/barcodes.tsv\")\n",
    "genenames <- read.table(\"/gpfs/gss1/work/sduknn/Andreas/TM_MCA/TM/facs/genes.tsv\")\n",
    "molecules <- Matrix::readMM(\"/gpfs/gss1/work/sduknn/Andreas/TM_MCA/TM/facs/facs_mtx.mtx\")"
   ]
  },
  {
   "cell_type": "code",
   "execution_count": 34,
   "metadata": {},
   "outputs": [],
   "source": [
    "#Add genes and barcodes as row and columns on the matrix\n",
    "rownames(molecules) <- genenames[,1]\n",
    "colnames(molecules) <- cellbarcodes[,1]"
   ]
  },
  {
   "cell_type": "code",
   "execution_count": 35,
   "metadata": {},
   "outputs": [
    {
     "data": {
      "text/html": [
       "<table>\n",
       "<thead><tr><th scope=col>V1</th><th scope=col>V2</th><th scope=col>V3</th></tr></thead>\n",
       "<tbody>\n",
       "\t<tr><td>A1.B000126.3_39_F.1.1</td><td>epidermal cell       </td><td>Skin                 </td></tr>\n",
       "\t<tr><td>A1.B000127.3_38_F.1.1</td><td>endothelial cell     </td><td>Fat                  </td></tr>\n",
       "\t<tr><td>A1.B000167.3_56_F.1.1</td><td>basal cell           </td><td>Mammary_Gland        </td></tr>\n",
       "\t<tr><td>A1.B000168.3_57_F.1.1</td><td>                     </td><td>Mammary_Gland        </td></tr>\n",
       "\t<tr><td>A1.B000412.3_56_F.1.1</td><td>endothelial cell     </td><td>Heart                </td></tr>\n",
       "\t<tr><td>A1.B000610.3_56_F.1.1</td><td>bladder cell         </td><td>Bladder              </td></tr>\n",
       "</tbody>\n",
       "</table>\n"
      ],
      "text/latex": [
       "\\begin{tabular}{r|lll}\n",
       " V1 & V2 & V3\\\\\n",
       "\\hline\n",
       "\t A1.B000126.3\\_39\\_F.1.1 & epidermal cell            & Skin                     \\\\\n",
       "\t A1.B000127.3\\_38\\_F.1.1 & endothelial cell          & Fat                      \\\\\n",
       "\t A1.B000167.3\\_56\\_F.1.1 & basal cell                & Mammary\\_Gland          \\\\\n",
       "\t A1.B000168.3\\_57\\_F.1.1 &                           & Mammary\\_Gland          \\\\\n",
       "\t A1.B000412.3\\_56\\_F.1.1 & endothelial cell          & Heart                    \\\\\n",
       "\t A1.B000610.3\\_56\\_F.1.1 & bladder cell              & Bladder                  \\\\\n",
       "\\end{tabular}\n"
      ],
      "text/markdown": [
       "\n",
       "V1 | V2 | V3 | \n",
       "|---|---|---|---|---|---|\n",
       "| A1.B000126.3_39_F.1.1 | epidermal cell        | Skin                  | \n",
       "| A1.B000127.3_38_F.1.1 | endothelial cell      | Fat                   | \n",
       "| A1.B000167.3_56_F.1.1 | basal cell            | Mammary_Gland         | \n",
       "| A1.B000168.3_57_F.1.1 |                       | Mammary_Gland         | \n",
       "| A1.B000412.3_56_F.1.1 | endothelial cell      | Heart                 | \n",
       "| A1.B000610.3_56_F.1.1 | bladder cell          | Bladder               | \n",
       "\n",
       "\n"
      ],
      "text/plain": [
       "  V1                    V2               V3           \n",
       "1 A1.B000126.3_39_F.1.1 epidermal cell   Skin         \n",
       "2 A1.B000127.3_38_F.1.1 endothelial cell Fat          \n",
       "3 A1.B000167.3_56_F.1.1 basal cell       Mammary_Gland\n",
       "4 A1.B000168.3_57_F.1.1                  Mammary_Gland\n",
       "5 A1.B000412.3_56_F.1.1 endothelial cell Heart        \n",
       "6 A1.B000610.3_56_F.1.1 bladder cell     Bladder      "
      ]
     },
     "metadata": {},
     "output_type": "display_data"
    }
   ],
   "source": [
    "# Load annotation\n",
    "ann <- read.csv(\"/gpfs/gss1/work/sduknn/Andreas/TM_MCA/TM/facs/annotation_for_r.tsv\" , header=F, sep = '\\t')\n"
   ]
  },
  {
   "cell_type": "code",
   "execution_count": 36,
   "metadata": {},
   "outputs": [],
   "source": [
    "#Make sure that annotations are correctly ordered\n",
    "ann_subset <- ann[match(colnames(molecules), ann[,1]),]\n",
    "celltype <- ann_subset[,2]\n",
    "tissue <- ann_subset[,3]"
   ]
  },
  {
   "cell_type": "code",
   "execution_count": 38,
   "metadata": {},
   "outputs": [],
   "source": [
    "#Make annotation dataframe\n",
    "cell_anns <- data.frame(type=celltype, tissue = tissue)\n",
    "rownames(cell_anns) <- colnames(molecules);"
   ]
  },
  {
   "cell_type": "code",
   "execution_count": 39,
   "metadata": {},
   "outputs": [
    {
     "data": {
      "text/html": [
       "<table>\n",
       "<thead><tr><th></th><th scope=col>type</th><th scope=col>tissue</th></tr></thead>\n",
       "<tbody>\n",
       "\t<tr><th scope=row>A1.B000126.3_39_F.1.1</th><td>epidermal cell  </td><td>Skin            </td></tr>\n",
       "\t<tr><th scope=row>A1.B000127.3_38_F.1.1</th><td>endothelial cell</td><td>Fat             </td></tr>\n",
       "\t<tr><th scope=row>A1.B000167.3_56_F.1.1</th><td>basal cell      </td><td>Mammary_Gland   </td></tr>\n",
       "\t<tr><th scope=row>A1.B000168.3_57_F.1.1</th><td>                </td><td>Mammary_Gland   </td></tr>\n",
       "\t<tr><th scope=row>A1.B000412.3_56_F.1.1</th><td>endothelial cell</td><td>Heart           </td></tr>\n",
       "\t<tr><th scope=row>A1.B000610.3_56_F.1.1</th><td>bladder cell    </td><td>Bladder         </td></tr>\n",
       "</tbody>\n",
       "</table>\n"
      ],
      "text/latex": [
       "\\begin{tabular}{r|ll}\n",
       "  & type & tissue\\\\\n",
       "\\hline\n",
       "\tA1.B000126.3\\_39\\_F.1.1 & epidermal cell   & Skin            \\\\\n",
       "\tA1.B000127.3\\_38\\_F.1.1 & endothelial cell & Fat             \\\\\n",
       "\tA1.B000167.3\\_56\\_F.1.1 & basal cell       & Mammary\\_Gland \\\\\n",
       "\tA1.B000168.3\\_57\\_F.1.1 &                  & Mammary\\_Gland \\\\\n",
       "\tA1.B000412.3\\_56\\_F.1.1 & endothelial cell & Heart           \\\\\n",
       "\tA1.B000610.3\\_56\\_F.1.1 & bladder cell     & Bladder         \\\\\n",
       "\\end{tabular}\n"
      ],
      "text/markdown": [
       "\n",
       "| <!--/--> | type | tissue | \n",
       "|---|---|---|---|---|---|\n",
       "| A1.B000126.3_39_F.1.1 | epidermal cell   | Skin             | \n",
       "| A1.B000127.3_38_F.1.1 | endothelial cell | Fat              | \n",
       "| A1.B000167.3_56_F.1.1 | basal cell       | Mammary_Gland    | \n",
       "| A1.B000168.3_57_F.1.1 |                  | Mammary_Gland    | \n",
       "| A1.B000412.3_56_F.1.1 | endothelial cell | Heart            | \n",
       "| A1.B000610.3_56_F.1.1 | bladder cell     | Bladder          | \n",
       "\n",
       "\n"
      ],
      "text/plain": [
       "                      type             tissue       \n",
       "A1.B000126.3_39_F.1.1 epidermal cell   Skin         \n",
       "A1.B000127.3_38_F.1.1 endothelial cell Fat          \n",
       "A1.B000167.3_56_F.1.1 basal cell       Mammary_Gland\n",
       "A1.B000168.3_57_F.1.1                  Mammary_Gland\n",
       "A1.B000412.3_56_F.1.1 endothelial cell Heart        \n",
       "A1.B000610.3_56_F.1.1 bladder cell     Bladder      "
      ]
     },
     "metadata": {},
     "output_type": "display_data"
    }
   ],
   "source": [
    "head(cell_anns)"
   ]
  },
  {
   "cell_type": "code",
   "execution_count": 40,
   "metadata": {},
   "outputs": [],
   "source": [
    "#Make singlecellexperiment\n",
    "molecules <- as.matrix(molecules)\n",
    "sce_facs <- SingleCellExperiment(assays = list(counts = as.matrix(molecules)), colData=cell_anns)"
   ]
  },
  {
   "cell_type": "code",
   "execution_count": 41,
   "metadata": {},
   "outputs": [
    {
     "data": {
      "text/plain": [
       "class: SingleCellExperiment \n",
       "dim: 23433 53760 \n",
       "metadata(0):\n",
       "assays(1): counts\n",
       "rownames(23433): 0610005C13Rik 0610007C21Rik ... l7Rn6\n",
       "  zsGreen_transgene\n",
       "rowData names(0):\n",
       "colnames(53760): A1.B000126.3_39_F.1.1 A1.B000127.3_38_F.1.1 ...\n",
       "  P9.MAA001892.3_38_F.1.1 P9.MAA001894.3_39_F.1.1\n",
       "colData names(2): type tissue\n",
       "reducedDimNames(0):\n",
       "spikeNames(0):"
      ]
     },
     "metadata": {},
     "output_type": "display_data"
    }
   ],
   "source": [
    "sce_facs"
   ]
  },
  {
   "cell_type": "code",
   "execution_count": 42,
   "metadata": {},
   "outputs": [],
   "source": [
    "#save to disk\n",
    "saveRDS(sce_facs, \"/gpfs/gss1/work/sduknn/Andreas/TM_MCA/TM/facs/facs_sce.rds\")"
   ]
  },
  {
   "cell_type": "code",
   "execution_count": null,
   "metadata": {},
   "outputs": [],
   "source": []
  }
 ],
 "metadata": {
  "kernelspec": {
   "display_name": "Python 3",
   "language": "python",
   "name": "python3"
  },
  "language_info": {
   "codemirror_mode": {
    "name": "ipython",
    "version": 3
   },
   "file_extension": ".py",
   "mimetype": "text/x-python",
   "name": "python",
   "nbconvert_exporter": "python",
   "pygments_lexer": "ipython3",
   "version": "3.6.3"
  }
 },
 "nbformat": 4,
 "nbformat_minor": 4
}
