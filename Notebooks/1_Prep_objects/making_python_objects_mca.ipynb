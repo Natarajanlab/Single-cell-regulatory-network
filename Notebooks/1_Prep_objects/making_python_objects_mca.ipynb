{
 "cells": [
  {
   "cell_type": "markdown",
   "metadata": {},
   "source": [
    "The MCA dataset was obtained as an rds file. Therefore, we convert the cell id, gene names and expression matrix into python readable files"
   ]
  },
  {
   "cell_type": "markdown",
   "metadata": {},
   "source": [
    "## Imports"
   ]
  },
  {
   "cell_type": "code",
   "execution_count": 1,
   "metadata": {},
   "outputs": [],
   "source": [
    "library(Matrix)\n",
    "library(reticulate)\n",
    "library(Seurat)"
   ]
  },
  {
   "cell_type": "code",
   "execution_count": 3,
   "metadata": {},
   "outputs": [],
   "source": [
    "mca.matrix <- readRDS(file = \"/work/sduknn/Andreas/TM_MCA/MCA/MCA_merged_mat.rds\")\n",
    "mca.metadata <- read.csv(\"/work/sduknn/Andreas/TM_MCA/MCA/MCA_All-batch-removed-assignments.csv\", \n",
    "    row.names = 1)"
   ]
  },
  {
   "cell_type": "code",
   "execution_count": 5,
   "metadata": {},
   "outputs": [
    {
     "data": {
      "text/html": [
       "<ol class=list-inline>\n",
       "\t<li>39855</li>\n",
       "\t<li>405191</li>\n",
       "</ol>\n"
      ],
      "text/latex": [
       "\\begin{enumerate*}\n",
       "\\item 39855\n",
       "\\item 405191\n",
       "\\end{enumerate*}\n"
      ],
      "text/markdown": [
       "1. 39855\n",
       "2. 405191\n",
       "\n",
       "\n"
      ],
      "text/plain": [
       "[1]  39855 405191"
      ]
     },
     "metadata": {},
     "output_type": "display_data"
    }
   ],
   "source": [
    "dim(mca.matrix)"
   ]
  },
  {
   "cell_type": "markdown",
   "metadata": {},
   "source": [
    "We use a seurat object to store the data and to remove unannotated cells "
   ]
  },
  {
   "cell_type": "code",
   "execution_count": 15,
   "metadata": {},
   "outputs": [
    {
     "name": "stderr",
     "output_type": "stream",
     "text": [
      "Warning message:\n",
      "“Feature names cannot have underscores ('_'), replacing with dashes ('-')”Warning message:\n",
      "“'SubsetData' is deprecated.\n",
      "Use 'subset' instead.\n",
      "See help(\"Deprecated\")”Warning message:\n",
      "“'OldWhichCells' is deprecated.\n",
      "Use 'WhichCells' instead.\n",
      "See help(\"Deprecated\")”"
     ]
    },
    {
     "data": {
      "text/plain": [
       "An object of class Seurat \n",
       "39855 features across 242533 samples within 1 assay \n",
       "Active assay: RNA (39855 features)"
      ]
     },
     "metadata": {},
     "output_type": "display_data"
    }
   ],
   "source": [
    "#Make seurat object\n",
    "mca <- CreateSeuratObject(counts = mca.matrix, meta.data = mca.metadata, project = \"MouseCellAtlas\")\n",
    "# Only keep annotated cells\n",
    "mca <- SubsetData(mca, cells = rownames(mca@meta.data[!is.na(mca@meta.data$ClusterID), \n",
    "    ]), do.clean = TRUE)\n",
    "\n",
    "mca"
   ]
  },
  {
   "cell_type": "markdown",
   "metadata": {},
   "source": [
    "Lastly we save the files as python readable pickle files"
   ]
  },
  {
   "cell_type": "code",
   "execution_count": 4,
   "metadata": {},
   "outputs": [],
   "source": [
    "cells <- mca@cell.names \n",
    "genes <- rownames(mca@data)\n",
    "mat <- mca@data\n",
    "\n",
    "np <- import(\"numpy\")\n",
    "pd <- import(\"pandas\")\n",
    "scipy <- import(\"scipy.sparse\")\n",
    "anndata <- import(\"anndata\")\n"
   ]
  },
  {
   "cell_type": "code",
   "execution_count": 5,
   "metadata": {},
   "outputs": [],
   "source": [
    "cells <- r_to_py(cells)\n",
    "genes <- r_to_py(genes)\n",
    "mat <- r_to_py(mat)"
   ]
  },
  {
   "cell_type": "code",
   "execution_count": 10,
   "metadata": {},
   "outputs": [],
   "source": [
    "py_save_object(cells, '/Users/andreas/Desktop/MCA/cell_names', pickle= \"pickle\")\n",
    "py_save_object(genes, '/Users/andreas/Desktop/MCA/gene_names', pickle= \"pickle\")\n",
    "py_save_object(mat, '/Users/andreas/Desktop/MCA/MCA_py_mat', pickle= \"pickle\")"
   ]
  },
  {
   "cell_type": "code",
   "execution_count": null,
   "metadata": {},
   "outputs": [],
   "source": []
  },
  {
   "cell_type": "code",
   "execution_count": null,
   "metadata": {},
   "outputs": [],
   "source": []
  }
 ],
 "metadata": {
  "kernelspec": {
   "display_name": "R",
   "language": "R",
   "name": "ir"
  },
  "language_info": {
   "codemirror_mode": "r",
   "file_extension": ".r",
   "mimetype": "text/x-r-source",
   "name": "R",
   "pygments_lexer": "r",
   "version": "3.5.1"
  }
 },
 "nbformat": 4,
 "nbformat_minor": 4
}
