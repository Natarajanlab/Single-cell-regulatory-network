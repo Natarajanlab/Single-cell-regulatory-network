{
 "cells": [
  {
   "cell_type": "markdown",
   "metadata": {},
   "source": [
    "# Notebook to make scanpy objects of tabula muris and MCA datasets"
   ]
  },
  {
   "cell_type": "markdown",
   "metadata": {},
   "source": [
    "## Imports"
   ]
  },
  {
   "cell_type": "code",
   "execution_count": 1,
   "metadata": {},
   "outputs": [
    {
     "name": "stderr",
     "output_type": "stream",
     "text": [
      "/work/sduknn/Andreas/bin/python_deps/lib/python3.6/site-packages/numba/errors.py:105: UserWarning: Insufficiently recent colorama version found. Numba requires colorama >= 0.3.9\n",
      "  warnings.warn(msg)\n"
     ]
    }
   ],
   "source": [
    "import pickle\n",
    "import pandas as pd\n",
    "import numpy as np\n",
    "import scanpy.api as sc\n",
    "import scanpy\n",
    "import scipy"
   ]
  },
  {
   "cell_type": "markdown",
   "metadata": {},
   "source": [
    "## MCA"
   ]
  },
  {
   "cell_type": "markdown",
   "metadata": {},
   "source": [
    "Firstly, load the python files of the MCA dataset generated in the notebook \"making_python_objects.ipynb\""
   ]
  },
  {
   "cell_type": "code",
   "execution_count": 2,
   "metadata": {},
   "outputs": [],
   "source": [
    "with open(\"/work/sduknn/Andreas/TM_MCA/MCA/cell_names\", 'rb') as pickle_file:\n",
    "    cell_names = pickle.load(pickle_file)\n",
    "\n",
    "with open(\"/work/sduknn/Andreas/TM_MCA/MCA/gene_names\", 'rb') as pickle_file:\n",
    "    gene_names = pickle.load(pickle_file)\n",
    "    \n",
    "with open(\"/work/sduknn/Andreas/TM_MCA/MCA/MCA_py_mat\", 'rb') as pickle_file:\n",
    "    mca_mat = pickle.load(pickle_file)"
   ]
  },
  {
   "cell_type": "code",
   "execution_count": 3,
   "metadata": {},
   "outputs": [
    {
     "data": {
      "text/plain": [
       "(39855, 242533)"
      ]
     },
     "execution_count": 3,
     "metadata": {},
     "output_type": "execute_result"
    }
   ],
   "source": [
    "mca_mat.shape #Needs transpose"
   ]
  },
  {
   "cell_type": "code",
   "execution_count": 4,
   "metadata": {},
   "outputs": [],
   "source": [
    "mca_mat = mca_mat.T\n",
    "    "
   ]
  },
  {
   "cell_type": "code",
   "execution_count": 8,
   "metadata": {},
   "outputs": [],
   "source": [
    "mca = sc.AnnData(X=mca_mat, obs = pd.DataFrame(data = None, index = cell_names), var = pd.DataFrame(data = None, index = gene_names))"
   ]
  },
  {
   "cell_type": "code",
   "execution_count": 10,
   "metadata": {},
   "outputs": [
    {
     "data": {
      "text/plain": [
       "AnnData object with n_obs × n_vars = 242533 × 39855 "
      ]
     },
     "execution_count": 10,
     "metadata": {},
     "output_type": "execute_result"
    }
   ],
   "source": [
    "mca"
   ]
  },
  {
   "cell_type": "code",
   "execution_count": 11,
   "metadata": {},
   "outputs": [],
   "source": [
    "MCA_metadata = pd.read_csv('/work/sduknn/Andreas/TM_MCA/MCA/MCA_CellAssignments.csv')"
   ]
  },
  {
   "cell_type": "code",
   "execution_count": 12,
   "metadata": {},
   "outputs": [
    {
     "data": {
      "text/plain": [
       "(270848, 7)"
      ]
     },
     "execution_count": 12,
     "metadata": {},
     "output_type": "execute_result"
    }
   ],
   "source": [
    "MCA_metadata.shape"
   ]
  },
  {
   "cell_type": "code",
   "execution_count": 13,
   "metadata": {},
   "outputs": [
    {
     "name": "stdout",
     "output_type": "stream",
     "text": [
      "(233994,)\n",
      "(233994,)\n"
     ]
    }
   ],
   "source": [
    "#Subset mca scanpy and metadata objects to only retain ID's that exist in both.\n",
    "MCA_metadata = MCA_metadata[MCA_metadata['Cell.name'].isin(mca.obs.index)  ]\n",
    "mca = mca[mca.obs.index.isin(MCA_metadata['Cell.name'].values)]\n",
    "print(MCA_metadata['Cell.name'].values.shape)\n",
    "print(mca.obs.index.shape)"
   ]
  },
  {
   "cell_type": "code",
   "execution_count": null,
   "metadata": {},
   "outputs": [],
   "source": []
  },
  {
   "cell_type": "code",
   "execution_count": 15,
   "metadata": {},
   "outputs": [],
   "source": [
    "mca.obs[\"batch\"] = pd.Categorical(MCA_metadata[\"Batch\"])\n",
    "mca.obs[\"tissue\"] = pd.Categorical(MCA_metadata[\"Tissue\"])\n",
    "mca.obs[\"annotation\"] = pd.Categorical(MCA_metadata[\"Annotation\"])"
   ]
  },
  {
   "cell_type": "code",
   "execution_count": null,
   "metadata": {},
   "outputs": [],
   "source": []
  },
  {
   "cell_type": "markdown",
   "metadata": {},
   "source": [
    "## TM - SS2"
   ]
  },
  {
   "cell_type": "code",
   "execution_count": 2,
   "metadata": {},
   "outputs": [],
   "source": [
    "#loading\n",
    "tm_facs_metadata = pd.read_csv('/work/sduknn/Andreas/TM_MCA/TM/TM_facs_metadata.csv')\n",
    "tm_facs_data = sc.read_h5ad('/work/sduknn/Andreas/TM_MCA/TM/TM_facs_mat.h5ad')\n",
    "\n",
    "#annotating\n",
    "tm_facs_data.obs[\"plate_barcode\"] = pd.Categorical(tm_facs_metadata[\"plate.barcode\"])\n",
    "tm_facs_data.obs[\"mouse_id\"] = pd.Categorical(tm_facs_metadata[\"mouse.id\"])\n",
    "tm_facs_data.obs[\"tissue\"] = pd.Categorical(tm_facs_metadata[\"tissue\"])\n",
    "tm_facs_data.obs[\"subtissue\"] = pd.Categorical(tm_facs_metadata[\"subtissue\"])\n",
    "tm_facs_data.obs[\"FACS_selection\"] = pd.Categorical(tm_facs_metadata[\"FACS.selection\"])\n",
    "tm_facs_data.obs[\"mouse_sex\"] = pd.Categorical(tm_facs_metadata[\"mouse.sex\"])\n",
    "tm_facs_data.obs[\"method\"] = pd.Categorical(tm_facs_metadata[\"method\"])\n",
    "tm_facs_data.obs[\"cell_ontology_class\"] = pd.Categorical(tm_facs_metadata[\"cell_ontology_class\"])\n",
    "tm_facs_data.obs[\"cell_ontology_id\"] = pd.Categorical(tm_facs_metadata[\"cell_ontology_id\"])\n",
    "tm_facs_data.obs[\"free_annotation\"] = pd.Categorical(tm_facs_metadata[\"free_annotation\"])"
   ]
  },
  {
   "cell_type": "code",
   "execution_count": 3,
   "metadata": {},
   "outputs": [
    {
     "data": {
      "text/plain": [
       "AnnData object with n_obs × n_vars = 53760 × 23433 \n",
       "    obs: 'plate_barcode', 'mouse_id', 'tissue', 'subtissue', 'FACS_selection', 'mouse_sex', 'method', 'cell_ontology_class', 'cell_ontology_id', 'free_annotation'"
      ]
     },
     "execution_count": 3,
     "metadata": {},
     "output_type": "execute_result"
    }
   ],
   "source": [
    "tm_facs_data"
   ]
  },
  {
   "cell_type": "markdown",
   "metadata": {},
   "source": [
    "## TM - 10X"
   ]
  },
  {
   "cell_type": "code",
   "execution_count": 4,
   "metadata": {},
   "outputs": [
    {
     "name": "stderr",
     "output_type": "stream",
     "text": [
      "/work/sduknn/Andreas/bin/python_deps/lib/python3.6/site-packages/IPython/core/interactiveshell.py:3049: DtypeWarning: Columns (4,9) have mixed types. Specify dtype option on import or set low_memory=False.\n",
      "  interactivity=interactivity, compiler=compiler, result=result)\n"
     ]
    },
    {
     "data": {
      "text/plain": [
       "AnnData object with n_obs × n_vars = 70118 × 23433 \n",
       "    obs: 'channel', 'mouse_id', 'tissue', 'subtissue', 'mouse_sex', 'method', 'cell_ontology_class', 'cell_ontology_id', 'free_annotation'"
      ]
     },
     "execution_count": 4,
     "metadata": {},
     "output_type": "execute_result"
    }
   ],
   "source": [
    "#loading\n",
    "tm_droplet_metadata = pd.read_csv('/work/sduknn/Andreas/TM_MCA/TM/TM_droplet_metadata.csv')\n",
    "tm_droplet_data = sc.read_h5ad('/work/sduknn/Andreas/TM_MCA/TM/TM_droplet_mat.h5ad')\n",
    "\n",
    "#annotating\n",
    "tm_droplet_data.obs[\"channel\"] = pd.Categorical(tm_droplet_metadata[\"channel\"])\n",
    "tm_droplet_data.obs[\"mouse_id\"] = pd.Categorical(tm_droplet_metadata[\"mouse.id\"])\n",
    "tm_droplet_data.obs[\"tissue\"] = pd.Categorical(tm_droplet_metadata[\"tissue\"])\n",
    "tm_droplet_data.obs[\"subtissue\"] = pd.Categorical(tm_droplet_metadata[\"subtissue\"])\n",
    "tm_droplet_data.obs[\"mouse_sex\"] = pd.Categorical(tm_droplet_metadata[\"mouse.sex\"])\n",
    "tm_droplet_data.obs[\"method\"] = pd.Categorical(tm_droplet_metadata[\"method\"])\n",
    "tm_droplet_data.obs[\"cell_ontology_class\"] = pd.Categorical(tm_droplet_metadata[\"cell_ontology_class\"])\n",
    "tm_droplet_data.obs[\"cell_ontology_id\"] = pd.Categorical(tm_droplet_metadata[\"cell_ontology_id\"])\n",
    "tm_droplet_data.obs[\"free_annotation\"] = pd.Categorical(tm_droplet_metadata[\"free_annotation\"])\n",
    "tm_droplet_data"
   ]
  },
  {
   "cell_type": "code",
   "execution_count": null,
   "metadata": {},
   "outputs": [],
   "source": []
  },
  {
   "cell_type": "markdown",
   "metadata": {},
   "source": [
    "### Save scanpy objects"
   ]
  },
  {
   "cell_type": "code",
   "execution_count": null,
   "metadata": {},
   "outputs": [],
   "source": [
    "mca.write('/work/sduknn/Andreas/TM_MCA/MCA/mca_scanpy_no_processing.h5ad')\n",
    "tm_facs_data.write('/work/sduknn/Andreas/TM_MCA/TM/tm_facs_scanpy_no_processing.h5ad')\n",
    "tm_droplet_data.write('/work/sduknn/Andreas/TM_MCA/TM/tm_droplet_scanpy_no_processing.h5ad')"
   ]
  },
  {
   "cell_type": "markdown",
   "metadata": {},
   "source": [
    "## Save to universal files that I can also load into R"
   ]
  },
  {
   "cell_type": "markdown",
   "metadata": {},
   "source": [
    "#### MCA"
   ]
  },
  {
   "cell_type": "code",
   "execution_count": null,
   "metadata": {},
   "outputs": [],
   "source": [
    "from scipy import io\n",
    "#Expression matrix\n",
    "io.mmwrite('/work/sduknn/Andreas/TM_MCA/MCA/mca_mtx.mtx', mca.X.T)\n",
    "#Genes\n",
    "genes = pd.DataFrame(mca.var.index.values)\n",
    "genes['1'] = pd.DataFrame(mca.var.index.values)\n",
    "genes.to_csv(\"/work/sduknn/Andreas/TM_MCA/MCA/genes.tsv\", sep='\\t', index = False, index_label = False, header=False)\n",
    "# Cell Id\n",
    "barcodes = pd.DataFrame(mca.obs.index.values)\n",
    "barcodes.to_csv(\"/work/sduknn/Andreas/TM_MCA/MCA/barcodes.tsv\", index = False, index_label = False, header=False)"
   ]
  },
  {
   "cell_type": "code",
   "execution_count": null,
   "metadata": {},
   "outputs": [],
   "source": []
  },
  {
   "cell_type": "code",
   "execution_count": null,
   "metadata": {},
   "outputs": [],
   "source": [
    "io.mmwrite('/work/sduknn/Andreas/TM_MCA/TM/facs_mtx.mtx', tm_facs_data.X.T)\n",
    "genes = pd.DataFrame(tm_facs_data.var.index.values)\n",
    "genes['1'] = pd.DataFrame(tm_facs_data.var.index.values)\n",
    "barcodes = pd.DataFrame(tm_facs_data.obs.index.values)\n",
    "\n",
    "genes.to_csv(\"/work/sduknn/Andreas/TM_MCA/TM/facs/genes.tsv\", sep='\\t', index = False, index_label = False, header=False)\n",
    "barcodes.to_csv(\"/work/sduknn/Andreas/TM_MCA/TM/facs/barcodes.tsv\", index = False, index_label = False, header=False)"
   ]
  },
  {
   "cell_type": "code",
   "execution_count": null,
   "metadata": {},
   "outputs": [],
   "source": [
    "io.mmwrite('/work/sduknn/Andreas/TM_MCA/TM/droplet/droplet_mtx.mtx', tm_droplet_data.X.T)\n",
    "\n",
    "genes = pd.DataFrame(tm_droplet_data.var.index.values)\n",
    "genes['1'] = pd.DataFrame(tm_droplet_data.var.index.values)\n",
    "barcodes = pd.DataFrame(tm_droplet_data.obs.index.values)\n",
    "\n",
    "genes.to_csv(\"/work/sduknn/Andreas/TM_MCA/TM/droplet/genes.tsv\", sep='\\t', index = False, index_label = False, header=False)\n",
    "barcodes.to_csv(\"/work/sduknn/Andreas/TM_MCA/TM/droplet/barcodes.tsv\", index = False, index_label = False, header=False)"
   ]
  },
  {
   "cell_type": "markdown",
   "metadata": {},
   "source": [
    "Save the annotations as a tsv file. Then they can also be imported into R"
   ]
  },
  {
   "cell_type": "code",
   "execution_count": 21,
   "metadata": {},
   "outputs": [],
   "source": [
    "mca.obs[[\"annotation\", 'tissue']].to_csv(\"/work/sduknn/Andreas/TM_MCA/MCA/annotation_for_r.tsv\", sep='\\t',  header=False)\n",
    "tm_facs_data.obs[['cell_ontology_class', 'tissue']].to_csv(\"/work/sduknn/Andreas/TM_MCA/TM/facs/annotation_for_r.tsv\", sep='\\t',  header=False)\n",
    "tm_droplet_data.obs[['cell_ontology_class', 'tissue']].to_csv(\"/work/sduknn/Andreas/TM_MCA/TM/droplet/annotation_for_r.tsv\", sep='\\t',  header=False)"
   ]
  },
  {
   "cell_type": "code",
   "execution_count": null,
   "metadata": {},
   "outputs": [],
   "source": []
  }
 ],
 "metadata": {
  "kernelspec": {
   "display_name": "Python 3",
   "language": "python",
   "name": "python3"
  },
  "language_info": {
   "codemirror_mode": {
    "name": "ipython",
    "version": 3
   },
   "file_extension": ".py",
   "mimetype": "text/x-python",
   "name": "python",
   "nbconvert_exporter": "python",
   "pygments_lexer": "ipython3",
   "version": "3.6.3"
  }
 },
 "nbformat": 4,
 "nbformat_minor": 4
}
